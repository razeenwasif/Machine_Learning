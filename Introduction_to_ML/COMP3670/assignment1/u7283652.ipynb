{
 "cells": [
  {
   "cell_type": "markdown",
   "metadata": {},
   "source": [
    "## COMP3670/6670 Programming Assignment 1\n",
    "---\n",
    "### Pledge of Academic Integrity\n",
    "I am committed to being a person of integrity.\n",
    "\n",
    "I pledge, as a member of the Australian National University community,\n",
    "to abide by and uphold the standards of academic integrity outlined in\n",
    "the ANU statement on\n",
    "[honesty and plagiarism](http://www.anu.edu.au/students/program-administration/assessments-exams/academic-honesty-plagiarism),\n",
    "and I am aware of the relevant\n",
    "[legislation](https://www.legislation.gov.au/Details/F2021L00997),\n",
    "and understand the consequences of me breaching those rules. I confirm that I understand Assignment 1 of COMP 3670/6670 is not a group assignment and I am submitting work that is my own and I will disclose the assistance from any other agent (human or AI) in the production of the content included in the submission of this assignment.\n",
    "\n",
    "**Signed**\n",
    "\n",
    "**Enter Your Student ID:** u7283652\n",
    "\n",
    "**Your Name:** Razeen Wasif\n",
    "\n",
    "**Date:** Aug 20, 2024\n",
    "\n",
    "---\n",
    "### Instructions\n",
    "**Deadline: 5pm, Aug 28, 2024.**\n",
    "\n",
    "Late submissions will be permitted without penalty till 4:59pm Aug 29, 2024.\n",
    "\n",
    "Late submissions beyond 4:59pm Aug 29, 2024 will encounter a 100\\% penalty.\n",
    "\n",
    "College-approved extenuating circumstances permit assessment extensions which need to be filed online [here](https://wattlecourses.anu.edu.au/mod/url/view.php?id=3227591) before the assignment deadline, 5pm, Aug 28, 2024. Approval of extension requests are governed by university policies and will take into account any submitted proof of extenuating circumstances.\n",
    "\n",
    "**Submit:** Write your answers in this file, and submit a single Jupyter Notebook file (.ipynb) on Wattle. Rename this file with your student number as 'uXXXXXXX.ipynb'.\n",
    "\n",
    "\n",
    "---\n",
    "**Marking distribution for the assignment**\n",
    "\n",
    "- Task1 = 10%\n",
    "  - 1.1: 2.5%\n",
    "  - 1.2: 2.5%\n",
    "  - 1.3: 2.5%\n",
    "  - 1.4: 2.5%\n",
    "- Task2 = 50%\n",
    "  - 2.1: 25%\n",
    "  - 2.2: 10%\n",
    "  - 2.3: 15% \n",
    "- Task3 = 40%\n",
    "  - 3.1: 14%\n",
    "  - 3.2: 10%\n",
    "  - 3.3: 16%\n",
    "\n",
    "The total marks percentage in this programming assignment will count towards a maximum of 10 points in the course. \n",
    "\n",
    "**Rubric**\n",
    "This notebook includes some examples (tests) which you can use to test your function implementations. \n",
    "\n",
    "During grading, we will use a set of test cases (for e.g., inputs and matrices which will be different from the examples) to evaluate your functions. For each subtask, we will check the output from your functions for a set of test cases. \n",
    "\n",
    "If a subtask is worth X, there are Y test cases, and your code passes Z out of Y test cases, you get X*Z/Y credits for that subtask. We will use one test case in subtasks 1.1, 1.2, 1.3, 1.4, 2.1, 3.2, 3.3. There will be two test cases in subtasks 2.2, 3.1. Three test cases in 2.3.\n",
    "\n",
    "There will be no partial credit if a test case does not pass, i.e., you will not receive any credit for the nature and content of your implementation beyond the evaluation of test cases according to the formula X*Z/Y described above. You will be penalized for using unapproved imports or if your code fails to run. \n",
    "\n",
    "Test cases will be published alongside the grades after the submission deadline."
   ]
  },
  {
   "cell_type": "markdown",
   "metadata": {},
   "source": [
    "## Task 0: Introduction\n",
    "---\n",
    "\n",
    "**NOTE:** *This part of the first assignment is by necessity somewhat tedious as its primary purpose is to introduce syntax, how to access and understand the Numpy documentation and some very basic concepts. If you are already familiar with Numpy, you can just read the **TASK** headings and complete the questions without worrying about all the additional information. This is designed for people who have never seen Numpy before, so it's a very easy 1st year style introduction to just introduce syntax.*\n",
    "\n",
    "*As this is a third year subject, it is assumed you already know to to program well (but may be unfamiliar with Python and Numpy).*\n",
    "\n",
    "---\n",
    "\n",
    "Arguably the most fundamental tool needed to engage with machine learning in Python is Numpy *(np)*. To include Numpy in any project, simply type the following line at the top of your python file:"
   ]
  },
  {
   "cell_type": "code",
   "execution_count": 1,
   "metadata": {},
   "outputs": [],
   "source": [
    "# numpy\n",
    "import numpy as np\n",
    "\n",
    "# !pip install sympy\n",
    "import sympy as sp\n",
    "\n",
    "# matplotlib\n",
    "import matplotlib.pyplot as plt\n",
    "%matplotlib inline"
   ]
  },
  {
   "cell_type": "markdown",
   "metadata": {},
   "source": [
    "A Jupyter Notebook is divided into cells, each of which works like a Python module or Latex file. When a cell is run, any cells that follow it will have access to its results. Running the above cell will give all following cells access to the Numpy library.\n",
    "\n",
    "-----------\n",
    "\n",
    "   **TASK 0.1:** To run the above cell, select it by clicking on it, hold **shift** and press **return**. If you have succeeded, then the cell will print \"Done\" just above.\n",
    "\n",
    "\n",
    "-----------\n",
    "\n",
    "Numpy is a library of common mathematical data structures and algorithms used in machine learning. For example:\n",
    "\n",
    "- It allows you to declare vectors and matrices, with all the associated mathematical operations like matrix vector products, matrix addition / subtraction.\n",
    "- It provides convenient, efficient implementations of algorithms to solve matrix equations, find the inverse of a matrix or perform Eigen decomposition. The implementation of these algorithms is compiled from C code, making Numpy much faster than programming these algorithms yourself in Python.\n",
    "\n",
    "You'll need to know Numpy inside and out. We'll start by getting you familiar with the easy to access online documentation and performing a few basic operations.\n",
    "\n",
    "Below I have declared the matrices: \n",
    "\n",
    "$$A = \n",
    "\\begin{bmatrix}\n",
    "2&3\\\\\n",
    "0&1\\\\\n",
    "\\end{bmatrix}\n",
    "\\\\\n",
    "x = \n",
    "\\begin{bmatrix}\n",
    "1\\\\\n",
    "3\\\\\n",
    "\\end{bmatrix}\n",
    "$$. \n",
    "\n",
    "---\n",
    "**TASK 0.2:** Run the cell below and observe what it prints.\n",
    "\n",
    "\n",
    "---\n",
    "(If it throws an error, you have the wrong version of python installed. This entire course will use Python 3, not Python 2)\n",
    "\n"
   ]
  },
  {
   "cell_type": "code",
   "execution_count": 2,
   "metadata": {},
   "outputs": [
    {
     "name": "stdout",
     "output_type": "stream",
     "text": [
      "\n",
      "Matrix Multiplication\n",
      "[[11]\n",
      " [ 3]]\n"
     ]
    }
   ],
   "source": [
    "A = np.array([[2, 3], [0, 1]])\n",
    "x = np.array([[1], [3]])\n",
    "\n",
    "#Matrix Multiplication Example\n",
    "b = A @ x\n",
    "print('\\nMatrix Multiplication')\n",
    "print(b)"
   ]
  },
  {
   "cell_type": "markdown",
   "metadata": {},
   "source": [
    "The above code illustrates how to perform matrix multiplication. Memorise it. Below are some other basic operations you'll likely need over the coming semester:"
   ]
  },
  {
   "cell_type": "code",
   "execution_count": 3,
   "metadata": {},
   "outputs": [
    {
     "name": "stdout",
     "output_type": "stream",
     "text": [
      "\n",
      "Matrix Addition\n",
      "[[3 4]\n",
      " [3 4]]\n",
      "\n",
      "Elementwise Matrix Multiplication\n",
      "[[2 3]\n",
      " [0 3]]\n",
      "\n",
      "Single Element Extraction\n",
      "2\n",
      "\n",
      "Column Extraction\n",
      "[2 0]\n",
      "\n",
      "Row Extraction\n",
      "[2 3]\n",
      "\n",
      "Transpose\n",
      "[[2 0]\n",
      " [3 1]]\n"
     ]
    }
   ],
   "source": [
    "#Matrix Addition Example\n",
    "b = A + x\n",
    "print('\\nMatrix Addition')\n",
    "print(b)\n",
    "\n",
    "#Elementwise Multiplication Example\n",
    "b = A * x\n",
    "print('\\nElementwise Matrix Multiplication')\n",
    "print(b)\n",
    "\n",
    "#Extract a single element of a matrix:\n",
    "print('\\nSingle Element Extraction')\n",
    "b = A[0, 0]\n",
    "print(b)\n",
    "\n",
    "#Extract an entire column of a matrix:\n",
    "print('\\nColumn Extraction')\n",
    "b = A[:, 0]\n",
    "print(b)\n",
    "\n",
    "#Extract an entire row of a matrix:\n",
    "print('\\nRow Extraction')\n",
    "b = A[0, :]\n",
    "print(b)\n",
    "\n",
    "#Transpose of a matrix:\n",
    "print('\\nTranspose')\n",
    "A_Transpose = A.T\n",
    "print(A_Transpose)"
   ]
  },
  {
   "cell_type": "markdown",
   "metadata": {},
   "source": [
    "## Task1: Solving a system of linear equations\n",
    "---\n",
    "\n",
    "A vital part of linear algebra is to know how to solve a system of linear equations. For e.g. \n",
    "\n",
    "$$a_{11}x_1+a_{12}x_2 \\dots a_{1d}x_d=b_1$$\n",
    "$$a_{21}x_1+a_{22}x_2 \\dots a_{2d}x_d=b_2$$\n",
    "$$\\vdots$$\n",
    "$$a_{n1}x_1+a_{n2}x_2 \\dots a_{nd}x_d=b_n$$\n",
    "\n",
    "The above system of linear equations can also be written down in a compact matrix form as follows:\n",
    "\n",
    "$$AX = B$$\n",
    "\n",
    "where,\n",
    "$$A = \\begin{bmatrix}\n",
    "a_{11} & \\dots & a_{1d}\\\\\n",
    "\\vdots & \\ddots & \\vdots \\\\\n",
    "a_{n1} & \\dots & a_{nd}\n",
    "\\end{bmatrix}, \\quad\n",
    "B = \\begin{bmatrix}\n",
    "b_1 \\\\ \\vdots \\\\ b_n\n",
    "\\end{bmatrix}, \\quad\n",
    "X = \\begin{bmatrix}\n",
    "x_1 \\\\ \\vdots \\\\ x_d\n",
    "\\end{bmatrix}.\n",
    "$$"
   ]
  },
  {
   "cell_type": "markdown",
   "metadata": {},
   "source": [
    "---\n",
    "**Task 1.1**: Use numpy's solve function to compute X\n",
    "\n",
    "---\n",
    "**HINT**: https://docs.scipy.org/doc/numpy/reference/generated/numpy.linalg.solve.html"
   ]
  },
  {
   "cell_type": "code",
   "execution_count": 4,
   "metadata": {},
   "outputs": [
    {
     "name": "stdout",
     "output_type": "stream",
     "text": [
      "[[0.03185596]\n",
      " [0.10526316]\n",
      " [0.05193906]]\n"
     ]
    }
   ],
   "source": [
    "# define A,B\n",
    "A = np.array([[10, 14, 4], [15, 2, 6], [7, 8, 18]])\n",
    "B = np.array([[2], [1], [2]])\n",
    "\n",
    "def solve_with_numpy(A,B):\n",
    "    # TODO: solve the linear system\n",
    "    return np.linalg.solve(A,B)\n",
    "\n",
    "# show solution\n",
    "X = solve_with_numpy(A,B)\n",
    "print (X)"
   ]
  },
  {
   "cell_type": "markdown",
   "metadata": {},
   "source": [
    "A more hands on way for solving for X, involves computing first computing the inverse of the matrix $A$\n",
    "\n",
    "---\n",
    "**Task 1.2**: Use numpy's inbuilt method for computing the inverse of the matrix $A$\n",
    "\n",
    "---\n",
    "\n",
    "**HINT**: https://docs.scipy.org/doc/numpy/reference/generated/numpy.linalg.inv.html"
   ]
  },
  {
   "cell_type": "code",
   "execution_count": 5,
   "metadata": {},
   "outputs": [
    {
     "name": "stdout",
     "output_type": "stream",
     "text": [
      "[[ 0.30769231 -0.07692308]\n",
      " [-1.15384615  0.53846154]]\n"
     ]
    }
   ],
   "source": [
    "A = np.array([[7, 1], [15, 4]])\n",
    "\n",
    "def find_inverse(A):\n",
    "    # TODO: find the inverse of the matrix A\n",
    "    return np.linalg.inv(A)\n",
    "    \n",
    "A_inv = find_inverse(A)\n",
    "print(A_inv)"
   ]
  },
  {
   "cell_type": "markdown",
   "metadata": {},
   "source": [
    "---\n",
    "**Task 1.3**: Use the inverse of matrix $A$, to solve for $X$. **Note that you are only allowed to use the functions in 1.1 and 1.2. No other library functions are allowed**.\n",
    "\n",
    "---"
   ]
  },
  {
   "cell_type": "code",
   "execution_count": 6,
   "metadata": {},
   "outputs": [
    {
     "name": "stdout",
     "output_type": "stream",
     "text": [
      "[[ 3.28571429]\n",
      " [-0.14285714]]\n"
     ]
    }
   ],
   "source": [
    "A = np.array([[5, 3], [2, 11]])\n",
    "B = np.array([[16], [5]])\n",
    "\n",
    "def solve_with_prev_tasks(A, B):\n",
    "    # TODO: solve the linear system using functions you have written\n",
    "    # A^-1 * B\n",
    "    return np.linalg.inv(A) @ B\n",
    "\n",
    "X = solve_with_prev_tasks(A, B)\n",
    "print(X)"
   ]
  },
  {
   "cell_type": "markdown",
   "metadata": {},
   "source": [
    "But what if $A$ is not a square matrix?\n",
    "\n",
    "---\n",
    "**Task 1.4**: Compute the Moore-Penrose pseudo inverse for matrix $A$ and **use it to solve for $x$**. **Note that, you must not directly use `np.linalg.pinv` for computing the pseudo-inverse**.\n",
    "\n",
    "---"
   ]
  },
  {
   "cell_type": "code",
   "execution_count": 7,
   "metadata": {},
   "outputs": [
    {
     "name": "stdout",
     "output_type": "stream",
     "text": [
      "[[0.97187421]\n",
      " [0.09046455]]\n"
     ]
    }
   ],
   "source": [
    "A = np.array([[15, 1], [5, 10], [8, 2], [11, 19]])\n",
    "B = np.array([[18], [15], [2], [8]])\n",
    "\n",
    "def pseudo_inverse(A):\n",
    "    # TODO: find the pseudo inverse of a matrix\n",
    "    return np.linalg.inv(A.T @ A) @ A.T\n",
    "\n",
    "def solve_with_pseudo_inverse(A, B):\n",
    "    A_pseudo = pseudo_inverse(A)\n",
    "    # TODO: solve for x using pseudo inverse method.\n",
    "    return A_pseudo @ B\n",
    "\n",
    "X = solve_with_pseudo_inverse(A, B)\n",
    "    \n",
    "print(X)"
   ]
  },
  {
   "cell_type": "markdown",
   "metadata": {},
   "source": [
    "## Task 2: Solving a system of linear equations with Gaussian elimination"
   ]
  },
  {
   "cell_type": "markdown",
   "metadata": {},
   "source": [
    "In the last task, we used numpy's inbulit functions to solve a system of linear equations. Lets do it without using these functions!\n",
    "\n",
    "---\n",
    "**Task 2.1**:  Complete the following gaussian elimnation function to compute the **reduced row-echelon form** of matrix $A$. You must implement the gaussian elimination algorithm yourself, not merely call someone else's library function. You **MUST NOT** copy codes from any source. Your function needs to work under **different shapes** of matrix. Negative zero is a result of the floating-point number standard. If you have some -0s instead of 0s, that should be fine.\n",
    "\n",
    "---"
   ]
  },
  {
   "cell_type": "code",
   "execution_count": 8,
   "metadata": {},
   "outputs": [],
   "source": [
    "def forward_elimination(res, rows, cols):\n",
    "    \"\"\"\n",
    "    This function finds the maximum value of a column\n",
    "    and makes it the pivot of the column through row swapping\n",
    "    as well as transforms matrix into upper-triangle form\n",
    "\n",
    "    Parameters:\n",
    "    - res: A matrix\n",
    "    - rows: the number of rows in res\n",
    "    - cols: the number of cols in res\n",
    "    \"\"\"\n",
    "    row, col = 0, 0\n",
    "    while row < rows and col < cols:\n",
    "        # Loop through entire matrix and swap rows\n",
    "        # Find the maximum value in the current column.\n",
    "        # This will be the pivot of the column.\n",
    "        pivot_col = np.argmax(np.abs(res[row:, col])) + row\n",
    "        \n",
    "        # If the maximum value is zero (column of zeros), \n",
    "        # continue to the next column\n",
    "        if abs(res[pivot_col, col]) < 1e-10:\n",
    "            col += 1\n",
    "            continue\n",
    "        # swap current row with row with max value in pivot\n",
    "        if pivot_col != row:\n",
    "            res[[row, pivot_col]] = res[[pivot_col, row]]\n",
    "            \n",
    "        for r in range(row + 1, rows):\n",
    "            factor = res[r, col] / res[row, col]\n",
    "            res[r, col:] -= factor * res[row, col:]\n",
    "        # Increment the rows and columns to move on\n",
    "        row += 1\n",
    "        col += 1\n",
    "    return res\n",
    "\n",
    "def backward_elimination(res, rows, cols):\n",
    "    \"\"\"\n",
    "    This function tranforms a upper-triangle matrix to rref.\n",
    "    Parameters:\n",
    "    - res: the upper-triangle form matrix\n",
    "    - rows: the number of rows in res\n",
    "    - cols: the number of cols in res\n",
    "    \"\"\"\n",
    "    # Find factor\n",
    "    for row in range(min(rows, cols)-1, -1, -1):\n",
    "        for next_row in range(row-1, -1, -1):\n",
    "            if res[row, row] != 0:\n",
    "                factor = res[next_row, row] / res[row, row]\n",
    "                # make all values above pivot zero\n",
    "                res[next_row, row:] -= factor * res[row, row:]\n",
    "    return res\n",
    "    \n",
    "def make_pivots_one(res, rows, cols):\n",
    "    \"\"\"\n",
    "    This function normalizes the pivots of a reduced matrix to 1\n",
    "\n",
    "    Parameters:\n",
    "    - res: the reduced matrix\n",
    "    - rows: the number of rows in res\n",
    "    - cols: the number of cols in res\n",
    "    \"\"\"\n",
    "    # make diagonals one\n",
    "    for row in range(min(rows, cols)):\n",
    "        pivot = res[row, row]\n",
    "        if pivot != 0:\n",
    "            res[row] /= pivot\n",
    "    return res\n",
    "\n",
    "def gaussian_elim(X):\n",
    "    '''\n",
    "    This function uses the Gaussian elimination algorithm to reduce\n",
    "    a matrix to its row reduced echelon form\n",
    "    \n",
    "    Parameters:\n",
    "    - X: The matrix to row-reduce\n",
    "    \n",
    "    Returns:\n",
    "    - A matrix in row-reduced echelon form\n",
    "    '''\n",
    "    rows, cols = X.shape\n",
    "    res = np.array(X, dtype=np.float64)\n",
    "    # TODO: implement Gaussian Elimination on any matrix.\n",
    "    # print(f\"The matrix to row-reduce is:\\n {X}\")\n",
    "    forward_elimination(res, rows, cols)\n",
    "    res[abs(res) < 1e-10] = 0\n",
    "    # print(f\"The matrix after forward elim is:\\n {res}\")\n",
    "    backward_elimination(res, rows, cols)\n",
    "    # res[abs(res) < 1e-10] = 0\n",
    "    # print(f\"The matrix after backward elim is:\\n {res}\")\n",
    "    make_pivots_one(res, rows, cols)\n",
    "    # res[abs(res) < 1e-10] = 0\n",
    "    # print(f\"The matrix after normalizing is:\\n {res}\")\n",
    "    # print(f\"the row reduced matrix using sympy is:\\n {sp.Matrix(X).rref()}\")\n",
    "    # print(f\"the row reduced matrix using gauss elim is:\\n {res}\\n\")\n",
    "    # Do not change the following line\n",
    "    res[abs(res) < 1e-10] = 0\n",
    "    return res"
   ]
  },
  {
   "cell_type": "code",
   "execution_count": 9,
   "metadata": {},
   "outputs": [
    {
     "name": "stdout",
     "output_type": "stream",
     "text": [
      "[[ 1.  0. -1.]\n",
      " [ 0.  1.  2.]\n",
      " [ 0.  0.  0.]]\n"
     ]
    }
   ],
   "source": [
    "C = np.array([[1, 2, 3],\n",
    " [4, 5, 6],\n",
    " [7, 8, 9]])\n",
    "print(gaussian_elim(C))"
   ]
  },
  {
   "cell_type": "code",
   "execution_count": 10,
   "metadata": {},
   "outputs": [
    {
     "name": "stdout",
     "output_type": "stream",
     "text": [
      "[[1. 0. 0.]\n",
      " [0. 1. 0.]\n",
      " [0. 0. 1.]]\n"
     ]
    }
   ],
   "source": [
    "A = np.array([[1,8,9],[3,2,6], [7,4,5]])\n",
    "print(gaussian_elim(A))"
   ]
  },
  {
   "cell_type": "code",
   "execution_count": 11,
   "metadata": {},
   "outputs": [
    {
     "name": "stdout",
     "output_type": "stream",
     "text": [
      "[[1. 0. 0. 0. 0. 0. 0. 0. 0. 0.]\n",
      " [0. 1. 0. 0. 0. 0. 0. 0. 0. 0.]\n",
      " [0. 0. 1. 0. 0. 0. 0. 0. 0. 0.]\n",
      " [0. 0. 0. 1. 0. 0. 0. 0. 0. 0.]\n",
      " [0. 0. 0. 0. 1. 0. 0. 0. 0. 0.]\n",
      " [0. 0. 0. 0. 0. 1. 0. 0. 0. 0.]\n",
      " [0. 0. 0. 0. 0. 0. 1. 0. 0. 0.]\n",
      " [0. 0. 0. 0. 0. 0. 0. 1. 0. 0.]\n",
      " [0. 0. 0. 0. 0. 0. 0. 0. 1. 0.]\n",
      " [0. 0. 0. 0. 0. 0. 0. 0. 0. 1.]]\n"
     ]
    }
   ],
   "source": [
    "A = np.array([[18, 18, 14, 15, 14, 19,  8,  7,  2, 11],\n",
    "               [ 3,  7,  8,  8,  2,  2,  8, 17,  6,  8],\n",
    "               [ 2,  8,  6,  4, 11, 10, 15, 11, 12,  3],\n",
    "               [ 9,  4, 17,  6,  6, 12, 13,  0, 12,  2],\n",
    "               [ 0,  3, 18,  0, 13,  6,  8, 13, 16, 15],\n",
    "               [15, 16, 13,  9,  4, 17, 11,  0,  5, 18],\n",
    "               [10,  4,  6, 12,  6, 18, 17,  7,  5,  6],\n",
    "               [ 3, 12,  2,  4, 16,  1, 17,  8, 10,  2],\n",
    "               [ 7,  8, 11,  4, 12, 14, 18, 14,  9, 16],\n",
    "               [18, 13,  3, 19, 16,  9,  6,  8,  2, 15]])\n",
    "\n",
    "print(gaussian_elim(A))\n",
    "\n",
    "# The result should be an identity matrix"
   ]
  },
  {
   "cell_type": "code",
   "execution_count": 12,
   "metadata": {},
   "outputs": [
    {
     "name": "stdout",
     "output_type": "stream",
     "text": [
      "[[  1.           0.           0.           0.          -2.77442593\n",
      "   20.86492571  -0.07248987   7.64520486]\n",
      " [  0.           1.           0.           0.           3.44146781\n",
      "  -21.02183701   1.11661414  -7.36402521]\n",
      " [  0.           0.           1.           0.           0.48694282\n",
      "   -2.83948672  -0.13552454  -0.68505178]\n",
      " [  0.           0.           0.           1.          -1.26947321\n",
      "   13.49369653  -0.09004953   4.45677623]]\n"
     ]
    }
   ],
   "source": [
    "B = np.array([[ 5,  3, 14,  1,  2, 15,  1, 11],\n",
    "               [ 3, 13,  5, 18, 16, 18, 12,  4],\n",
    "               [ 1,  9, 12, 15, 15,  0,  7,  0],\n",
    "               [18, 17,  5,  0, 11,  4, 17,  9]])\n",
    "\n",
    "print(gaussian_elim(B))\n",
    "# The result should look like\n",
    "# [[  1.           0.           0.           0.          -2.77442593 20.86492571  -0.07248987   7.64520486]\n",
    "#  [  0.           1.           0.           0.           3.44146781 -21.02183701   1.11661414  -7.36402521]\n",
    "#  [  0.           0.           1.           0.           0.48694282 -2.83948672  -0.13552454  -0.68505178]\n",
    "#  [  0.           0.           0.           1.          -1.26947321 13.49369653  -0.09004953   4.45677623]]"
   ]
  },
  {
   "cell_type": "code",
   "execution_count": 13,
   "metadata": {},
   "outputs": [
    {
     "name": "stdout",
     "output_type": "stream",
     "text": [
      "[[1. 0. 0.]\n",
      " [0. 1. 0.]\n",
      " [0. 0. 1.]\n",
      " [0. 0. 0.]\n",
      " [0. 0. 0.]\n",
      " [0. 0. 0.]\n",
      " [0. 0. 0.]]\n"
     ]
    }
   ],
   "source": [
    "C = np.array([[ 3, 12, 17],\n",
    "               [14, 19,  8],\n",
    "               [ 1, 12,  7],\n",
    "               [10, 17, 11],\n",
    "               [ 6,  0, 12],\n",
    "               [16,  3, 15],\n",
    "               [16, 19, 18]])\n",
    "\n",
    "print(gaussian_elim(C))\n",
    "# The result should look like\n",
    "# [[1. 0. 0.]\n",
    "#  [0. 1. 0.]\n",
    "#  [0. 0. 1.]\n",
    "#  [0. 0. 0.]\n",
    "#  [0. 0. 0.]\n",
    "#  [0. 0. 0.]\n",
    "#  [0. 0. 0.]]"
   ]
  },
  {
   "cell_type": "code",
   "execution_count": 14,
   "metadata": {},
   "outputs": [
    {
     "name": "stdout",
     "output_type": "stream",
     "text": [
      "[[ 1.          0.          0.         -1.65307985]\n",
      " [ 0.          1.          0.          2.62974947]\n",
      " [ 0.          0.          1.          1.85441692]\n",
      " [ 0.          0.          0.          0.        ]]\n"
     ]
    }
   ],
   "source": [
    "C = np.array([[-0.62654533, -0.31002168, -0.34649087, -0.42208842],\n",
    " [ 2.61837699,  0.92174822, -0.26810391, -2.40159578],\n",
    " [ 0.41028528, -0.42190761,  0.46844453, -0.91905418],\n",
    " [ 0.41028528, -0.42190761,  0.46844453, -0.91905418]])\n",
    "print(gaussian_elim(C))"
   ]
  },
  {
   "cell_type": "code",
   "execution_count": 15,
   "metadata": {},
   "outputs": [
    {
     "name": "stdout",
     "output_type": "stream",
     "text": [
      "[[ 1.          0.          0.          1.18974509]\n",
      " [ 0.          1.          0.         -2.83667863]\n",
      " [ 0.          0.          1.          2.48487472]\n",
      " [ 0.          0.          0.          0.        ]]\n"
     ]
    }
   ],
   "source": [
    "C = np.array([[-0.80226897,  1.29289075,  0.97913426, -2.18898515],\n",
    " [ 1.63014815,  0.79302078,  0.18669054,  0.15381826],\n",
    " [-0.23982889, -0.00487591, -0.30339143, -1.02539355],\n",
    " [-0.23982889, -0.00487591, -0.30339143, -1.02539355]])\n",
    "print(gaussian_elim(C))"
   ]
  },
  {
   "cell_type": "markdown",
   "metadata": {},
   "source": [
    "Make sure you pass the following test. Note that, passing the test set does not guarantee you with full mark. We will use different cases when testing your implementation."
   ]
  },
  {
   "cell_type": "code",
   "execution_count": 16,
   "metadata": {},
   "outputs": [
    {
     "data": {
      "text/plain": [
       "True"
      ]
     },
     "execution_count": 16,
     "metadata": {},
     "output_type": "execute_result"
    }
   ],
   "source": [
    "# test your gaussian_elim function\n",
    "def test_gaussian_elim():\n",
    "    for i in range(100):\n",
    "        m, n = np.random.randint(low=5, high=10, size=2)\n",
    "        a = np.random.randn(m, n)\n",
    "        sol1 = gaussian_elim(a)\n",
    "        sol2 = np.array(sp.Matrix(a).rref()[0])\n",
    "        if np.sum((sol1 - sol2) ** 2) > 1e-6:\n",
    "            print(a, \"\\n\")\n",
    "            print(gaussian_elim(a), \"\\n\")\n",
    "            print(np.array(sp.Matrix(a).rref()[0]), \"\\n\")\n",
    "            return False\n",
    "    test_cases = [np.array([[2, 0, 1, 1],\n",
    "                            [2, 0, 1, 1],\n",
    "                            [0, 0, 0, 0],\n",
    "                            [1, 1, 1, 0]], dtype=np.float64),\n",
    "                  np.array([[1, 2, 3],\n",
    "                            [4, 5, 6],\n",
    "                            [7, 8, 9]], dtype=np.float64),\n",
    "                  ]\n",
    "    for test in test_cases:\n",
    "        sol1 = gaussian_elim(test)\n",
    "        sol2 = np.array(sp.Matrix(test).rref()[0])\n",
    "        if np.sum((sol1 - sol2) ** 2) > 1e-6:\n",
    "            print(test, \"\\n\")\n",
    "            print(gaussian_elim(test), \"\\n\")\n",
    "            print(np.array(sp.Matrix(test).rref()[0]), \"\\n\")\n",
    "            return False\n",
    "    return True\n",
    "test_gaussian_elim()"
   ]
  },
  {
   "cell_type": "markdown",
   "metadata": {},
   "source": [
    "---\n",
    "**Task 2.2**: A system of linear equations is called homogeneous if the right hand side is the zero vector. Sometimes there will be only trivial solution, namely the zero vector. An example of this matrix is:\n",
    "$$2x_1+4x_2 =0$$\n",
    "$$2x_1+5x_2 =0$$\n",
    "Sometimes there will be non-trivial solutions, e.g.,\n",
    "$$2x_1+4x_2 =0$$\n",
    "$$1x_1+2x_2 =0$$\n",
    "The solution can be $x_1 =-2$, $x_2 =1$.\n",
    " \n",
    "$A=\\big(\\begin{smallmatrix}\n",
    "  2 & 4\\\\\n",
    "  1 & 2\n",
    "\\end{smallmatrix}\\big)$ is called coefficient matrix.\n",
    "Your task is solving a homogeneous system of linear equations based on its reduced row-echelon form, i.e., the output of your *gaussian_elim* function in Task 2.1. You **MUST NOT** revoke any numpy inbuilt functions you used in Task 1. Your function needs to work under **different shapes** of $A$. \n",
    "\n",
    "The *solve_homogeneous* function should be according to the following specifications:\n",
    "* Take as input the coefficient matrix $A$. \n",
    "* Return:\n",
    "    - 0 if it only has trivial solution. Type: int.\n",
    "    - otherwise, return any two different non-trivial solutions. Type: tuple((np.ndarray, Type: np.ndarray)).  Note that the dimensions of the np.ndarray should be 1, i.e., using one pair of square brackets. See demo outputs below."
   ]
  },
  {
   "cell_type": "code",
   "execution_count": 17,
   "metadata": {},
   "outputs": [],
   "source": [
    "def find_pivots_and_free_vars(rref_A, rows, cols):\n",
    "    \"\"\"\n",
    "    This function identifies the pivots columns and free variables\n",
    "    \n",
    "    Parameters\n",
    "    - rref_A: rref matrix [A|0 or b]\n",
    "    - rows: number of rows in rref_A\n",
    "    - cols: number of cols in rref_A\n",
    "\n",
    "    Returns:\n",
    "    - pivot_columns: list of pivot columns\n",
    "    - free_vars: list of free variables\n",
    "    \"\"\"\n",
    "    # Identify pivot columns\n",
    "    pivot_columns = [] # indexes of columns that are pivots\n",
    "    for i, row in enumerate(rref_A):\n",
    "        for col, element in enumerate(row[:-1]):\n",
    "            if abs(element - 1) < 1e-10:\n",
    "                pivot_columns.append(col)\n",
    "                break\n",
    "    # print(f\"Identified pivot columns: {pivot_columns}\")\n",
    "    # Identify free variables (columns that do not have leading ones\n",
    "    # (pivots))\n",
    "    free_vars = [i for i in range(cols) if i not in pivot_columns]\n",
    "    # print(f\"The free variables are:\\n {free_vars}\")\n",
    "    return pivot_columns, free_vars\n",
    "\n",
    "def linalg_solve(rref_A, rows, cols):\n",
    "    \"\"\"\n",
    "    This function solves systems of linear equations\n",
    "\n",
    "    Parameters\n",
    "    - rref_A: rref matrix [A|0 or b]\n",
    "    - rows: number of rows in rref_A\n",
    "    - cols: number of cols in rref_A\n",
    "    Returns:\n",
    "    - res: solved linear system\n",
    "    \"\"\"\n",
    "    pivot_cols, free_vars = find_pivots_and_free_vars(rref_A, rows, cols)\n",
    "\n",
    "    basis_null_space = np.array([])\n",
    "    # for each free var (non pivot col), form a basis vector\n",
    "    for free_var in free_vars:\n",
    "        basis_vector = np.zeros(cols) # fill with zeros\n",
    "        basis_vector[free_var] = 1 # set free var to 1 to solve basic variables\n",
    "\n",
    "        # Loop through to populate the entries using the \n",
    "        # free var and get the vector in the null space.\n",
    "        for row, pivot in enumerate(pivot_cols):\n",
    "            basis_vector[pivot] = -rref_A[row][free_var]\n",
    "        null_space = np.append(basis_null_space, [round(i, 8) for i in basis_vector])\n",
    "                \n",
    "    # Compute for [A|0]\n",
    "    if np.all(rref_A[:, -1] == 0):\n",
    "        return (np.array(null_space))\n",
    "    # Compute for [A|b]\n",
    "    else:\n",
    "        # Compute particular solution\n",
    "        particular = np.zeros(cols - 1)\n",
    "        for row, pivot in enumerate(pivot_cols):\n",
    "            particular[pivot] = rref_A[row, -1]\n",
    "        return np.array(particular), np.array(null_space)\n",
    "\n",
    "def solve_homogeneous(A):\n",
    "    \"\"\"\n",
    "    This function uses gaussian elimination to solve a homogenous\n",
    "    system of linear equations (Ax=0).\n",
    "    \n",
    "    Parameters:\n",
    "    - A: The coefficient matrix\n",
    "    \n",
    "    Returns:\n",
    "    - 0: if A only has the trivial solution\n",
    "    - tuple: two different non-trivial solutions\n",
    "    \"\"\"\n",
    "    # YOUR CODE HERE\n",
    "    rows, cols = A.shape\n",
    "    # define the zero vector\n",
    "    zero_vector = np.zeros((rows, 1))\n",
    "    # Row-reduce the augmented matrix\n",
    "    augmented_A = np.hstack((A, zero_vector))\n",
    "    rref_A = gaussian_elim(augmented_A)\n",
    "    #print(f\"The matrix is:\\n {A}\")\n",
    "    #print(f\"The row-reduced form of the matrix is:\\n {rref_A}\")\n",
    "\n",
    "    # find the rank of A\n",
    "    rank = 0\n",
    "    for row in rref_A:\n",
    "        if all(element == 0 for element in row[:-1]):\n",
    "            continue\n",
    "        else:\n",
    "            rank += 1\n",
    "    # If rank = number of columns then trivial solution\n",
    "    if rank == cols:\n",
    "        return 0\n",
    "    elif rank < cols:\n",
    "        # return the non-trivial solution\n",
    "        sol = linalg_solve(rref_A, rows, cols)\n",
    "        return (sol, list(map(lambda x: x * 2, sol)))"
   ]
  },
  {
   "cell_type": "code",
   "execution_count": 18,
   "metadata": {},
   "outputs": [
    {
     "name": "stdout",
     "output_type": "stream",
     "text": [
      "0\n"
     ]
    }
   ],
   "source": [
    "A = np.array([[1,8,9],[3,2,6],[7,4,5], [12,4,16]])\n",
    "print(solve_homogeneous(A))"
   ]
  },
  {
   "cell_type": "code",
   "execution_count": 19,
   "metadata": {},
   "outputs": [
    {
     "name": "stdout",
     "output_type": "stream",
     "text": [
      "0\n"
     ]
    }
   ],
   "source": [
    "A = np.array([[ 6,  9,  1,  7],\n",
    "               [17,  1,  3, 17],\n",
    "               [ 8,  4,  9, 13],\n",
    "               [18,  4, 18, 18]])\n",
    "print(solve_homogeneous(A))\n",
    "# The result should look like\n",
    "# 0"
   ]
  },
  {
   "cell_type": "code",
   "execution_count": 20,
   "metadata": {},
   "outputs": [
    {
     "name": "stdout",
     "output_type": "stream",
     "text": [
      "0\n"
     ]
    }
   ],
   "source": [
    "B = np.array([[ 6,  8,  6, 15, 12],\n",
    "           [17,  8,  8, 12,  2],\n",
    "           [18, 15, 15,  7,  2],\n",
    "           [ 7,  6, 10,  3, 18],\n",
    "           [14,  4,  4,  2, 16]])\n",
    "print(solve_homogeneous(B))\n",
    "# The result should look like\n",
    "# 0"
   ]
  },
  {
   "cell_type": "code",
   "execution_count": 21,
   "metadata": {},
   "outputs": [
    {
     "name": "stdout",
     "output_type": "stream",
     "text": [
      "(array([ 0.72, -1.32,  1.  ]), [1.44, -2.64, 2.0])\n"
     ]
    }
   ],
   "source": [
    "C = np.array([[ 8, 18, 18],\n",
    "               [14, 19, 15],\n",
    "               [4,  9,  9]])\n",
    "\n",
    "print(solve_homogeneous(C))\n",
    "# The result should look like\n",
    "# (array([ 0.72, -1.32,  1.  ]), array([ 1.44, -2.64,  2.  ]))\n",
    "# Note they are not unique"
   ]
  },
  {
   "cell_type": "code",
   "execution_count": 22,
   "metadata": {},
   "outputs": [
    {
     "name": "stdout",
     "output_type": "stream",
     "text": [
      "(array([-21.11538462,  68.53846154,  -1.23076923,   1.        ]), [-42.23076924, 137.07692308, -2.46153846, 2.0])\n"
     ]
    }
   ],
   "source": [
    "D = np.array([[10,  3,  2,  8],\n",
    "           [16,  5,  8,  5],\n",
    "           [ 0,  0, 13, 16]])\n",
    "\n",
    "print(solve_homogeneous(D))\n",
    "#The result should look like\n",
    "# ((array([-21.11538462,  68.53846154,  -1.23076923,   1.        ]), \n",
    "# array([-42.23076923, 137.07692308,  -2.46153846,   2.        ]))\n",
    "# Note they are not unique"
   ]
  },
  {
   "cell_type": "code",
   "execution_count": 23,
   "metadata": {},
   "outputs": [
    {
     "name": "stdout",
     "output_type": "stream",
     "text": [
      "0\n"
     ]
    }
   ],
   "source": [
    "E = np.array([[ 2, 12,  2],\n",
    "           [12,  8,  7],\n",
    "           [14,  5, 17],\n",
    "           [ 8, 10,  5]])\n",
    "\n",
    "print(solve_homogeneous(E))\n",
    "# The result should look like\n",
    "# 0"
   ]
  },
  {
   "cell_type": "markdown",
   "metadata": {},
   "source": [
    "Make sure you pass the following test. Note that, passing the test set does not guarantee you with full mark. We will use different cases when testing your implementation."
   ]
  },
  {
   "cell_type": "code",
   "execution_count": 24,
   "metadata": {},
   "outputs": [
    {
     "name": "stdout",
     "output_type": "stream",
     "text": [
      "True\n",
      "True\n"
     ]
    }
   ],
   "source": [
    "def test_homogeneous_trivial():\n",
    "    # test A with m>n and m=n but no dependent rows in it\n",
    "    for i in range(1000):\n",
    "        m = np.random.randint(low=4, high=6)\n",
    "        n = np.random.randint(low=2, high=5)\n",
    "        a = np.random.randn(m, n)\n",
    "        res = solve_homogeneous(a)\n",
    "        if res != 0:\n",
    "            print(a, '\\n')\n",
    "            print(f' solution should be 0 but got {res}')\n",
    "            return False\n",
    "    # test A with m>n and there are dependent rows in it\n",
    "    test_list = [\n",
    "        np.array([[1, 2], [3, 4], [2, 4]]),\n",
    "        np.array([[1, 2, 3], [2, 4, 6], [3, 4, 5], [4, 7, 9]]),\n",
    "    ]\n",
    "    for case in test_list:\n",
    "        res = solve_homogeneous(case)\n",
    "        if res != 0:\n",
    "            print(a, '\\n')\n",
    "            print(f' solution should be 0 but got {res}')\n",
    "            return False\n",
    "    return True\n",
    "\n",
    "def test_homogeneous_nontrivial():\n",
    "    import random\n",
    "    # test A with m=n and m<n\n",
    "    for i in range(1000):\n",
    "        m = np.random.randint(low=2, high=5)\n",
    "        n = np.random.randint(low=4, high=6)\n",
    "        a = np.random.randn(m, n)\n",
    "        a_ = a.copy()\n",
    "        # create matrices whose rows or columns are dependent\n",
    "        dpdt = random.sample(range(0, m), np.random.randint(low=2, high=m + 1))\n",
    "        duplicate = a[dpdt[0]]\n",
    "        for row in dpdt:\n",
    "            a[row] = duplicate\n",
    "        x1 = np.expand_dims(solve_homogeneous(a)[0], axis=1)\n",
    "        x2 = np.expand_dims(solve_homogeneous(a)[1], axis=1)\n",
    "        if abs(np.sum(a @ x1)) > 1e-6 or abs(np.sum(a @ x2)) > 1e-6 or (x1==x2).all():\n",
    "            print(a_, '\\n')\n",
    "            print('the solutions are not correct')\n",
    "            return False\n",
    "    # test A with m>n\n",
    "    test_list = [\n",
    "        np.array([[1, 2], [1, 2], [2, 4]]),\n",
    "        np.array([[1, 2, 3], [3, 6, 9], [1, 2, 3], [4, 7, 9]]),\n",
    "        np.array([[1, 2, 3], [4, 5, 6], [7, 8, 9]])\n",
    "    ]\n",
    "    for case in test_list:\n",
    "        x1 = np.expand_dims(solve_homogeneous(case)[0], axis=1)\n",
    "        x2 = np.expand_dims(solve_homogeneous(case)[1], axis=1)\n",
    "        if abs(np.sum(case @ x1)) > 1e-6 or abs(np.sum(case @ x2)) > 1e-6 or (x1==x2).all():\n",
    "            print(a_, '\\n')\n",
    "            print('the solutions are not correct')\n",
    "            return False\n",
    "    return True\n",
    "\n",
    "print(test_homogeneous_trivial())\n",
    "print(test_homogeneous_nontrivial())"
   ]
  },
  {
   "cell_type": "markdown",
   "metadata": {},
   "source": [
    "---\n",
    "**Task 2.3**: A system of linear equations is called non-homogeneous if the right hand side is not the zero vector. A non-homogeneous system of linear equations has\n",
    "* no solution, or\n",
    "* a unique solution, or\n",
    "* infinite number of solutions\n",
    "\n",
    "Similar to Task 2.2, your task is solving a non-homogeneous system of linear equations. You **MUST NOT** revoke any numpy inbuilt functions you used in Task 1, however, you are allowed to use the functions you defined in Task 2.2. Your function needs to work under **different shapes** of augmented matrix $[A|b]$. \n",
    "\n",
    "The *solve_nonhomogeneous* function should be according to following specifications:\n",
    "* Take as input the augmented matrix $[A|b]$. \n",
    "* Return:\n",
    "    - None if it has no solution at all. Type: None.\n",
    "    - the single solution if it only has one solution. Type: np.ndarray.\n",
    "    - otherwise, return any two different solutions if it has more than one solutions. Type: tuple((np.ndarray, Type: np.ndarray)).\n",
    "*  Note that the dimensions of the np.ndarray should be 1, especially, one pair of square brackets. See demo outputs below.    "
   ]
  },
  {
   "cell_type": "code",
   "execution_count": 25,
   "metadata": {},
   "outputs": [],
   "source": [
    "def rank(A):\n",
    "    # TODO: get rank of A\n",
    "    rows, cols = A.shape\n",
    "    rref_A = gaussian_elim(A)\n",
    "    # print(rref_A)\n",
    "    # rank is number of non-zero rows after rref, so loop through rows\n",
    "    # to see how many rows are non-zero\n",
    "    # set defualt rank to 0\n",
    "    rank = 0\n",
    "    for row in rref_A:\n",
    "        if all(element == 0 for element in row):\n",
    "            continue\n",
    "        else:\n",
    "            rank += 1\n",
    "    return rank"
   ]
  },
  {
   "cell_type": "code",
   "execution_count": 26,
   "metadata": {},
   "outputs": [],
   "source": [
    "def solve_nonhomogeneous(A_aug):\n",
    "    \"\"\"\n",
    "    This function solves the non-homogenous system of linear \n",
    "    equations Ax = b\n",
    "\n",
    "    Parameters:\n",
    "    - A_aug: augmented matrix [A|b]\n",
    "\n",
    "    Returns:\n",
    "    - None: if there are no solutions\n",
    "    - rtn: np array of single solution\n",
    "    - (rtn, rtn): tuple of solutions if there are more than one\n",
    "    \"\"\"\n",
    "    # TODO: solve for x for non homogeneous system\n",
    "    rows, cols = A_aug.shape\n",
    "    # First need to row-reduce the augmented matrix in question\n",
    "    rref_A = gaussian_elim(A_aug)\n",
    "    # print(f\"The original matrix is:\\n {A_aug}\")\n",
    "    # print(f\"The row-reduced form of the matrix is:\\n {rref_A}\")\n",
    "    # For system to have no solution, rk(A) != rk([A\\b])\n",
    "    rank_A, rank_A_aug = 0, 0\n",
    "    for row in rref_A:\n",
    "        if all(element == 0 for element in row):\n",
    "            rank_A_aug += 1\n",
    "        if all(element == 0 for element in row[:-1]):\n",
    "            rank_A += 1\n",
    "    if rank_A != rank_A_aug:\n",
    "        # system has no solution\n",
    "        return None\n",
    "        \n",
    "    particular, null_space_1 = linalg_solve(rref_A, rows, cols)\n",
    "    # If A has full rank and sqaure\n",
    "    if rank(rref_A[:, :-1]) == A_aug[:, :-1].shape[1] and A_aug[:, :-1].shape[0] == A_aug[:, :-1].shape[1]:\n",
    "        # System has unique solution\n",
    "        # print(\"Unique solution:\")\n",
    "        return particular\n",
    "    else:\n",
    "        # System has multiple solutions\n",
    "        homogeneous_solutions = solve_homogeneous(A_aug[:, :-1]) \n",
    "        rtn = ()\n",
    "        for arr in (particular + homogeneous_solutions):\n",
    "            rtn += (arr,)\n",
    "        # print(f\"the tuple is:\\n {rtn}\")\n",
    "        return rtn"
   ]
  },
  {
   "cell_type": "code",
   "execution_count": 27,
   "metadata": {},
   "outputs": [
    {
     "name": "stdout",
     "output_type": "stream",
     "text": [
      "(array([ 2.01783315,  1.82334044, -0.86540026,  1.        ]), array([ 2.9198053 ,  0.28103249, -2.51024836,  2.        ]))\n"
     ]
    }
   ],
   "source": [
    "A = np.array([[ 1.49824067, -0.23835097,  0.93452348, -0.18183278,  1.59803508],\n",
    " [ 0.155208,    0.81201992 ,-0.71963855, -0.07130462,  2.34524338],\n",
    " [-0.73123568,  0.50770485, -0.10868031 , 1.26382884,  0.808088  ],\n",
    " [ 0.155208,    0.81201992 ,-0.71963855 ,-0.07130462 , 2.34524338]])\n",
    "print(solve_nonhomogeneous(A))"
   ]
  },
  {
   "cell_type": "code",
   "execution_count": 28,
   "metadata": {},
   "outputs": [
    {
     "name": "stdout",
     "output_type": "stream",
     "text": [
      "None\n"
     ]
    }
   ],
   "source": [
    "A = np.array([[ 9,  5, 14,  3],\n",
    "           [ 9,  1, 11,  0],\n",
    "           [ 0,  4,  3,  2]])\n",
    "\n",
    "print(solve_nonhomogeneous(A))\n",
    "# The result should look like\n",
    "# None"
   ]
  },
  {
   "cell_type": "code",
   "execution_count": 29,
   "metadata": {},
   "outputs": [
    {
     "name": "stdout",
     "output_type": "stream",
     "text": [
      "[0.19444444 0.52777778 3.11111111]\n"
     ]
    }
   ],
   "source": [
    "B = np.array([[ 9, 19,  2, 18],\n",
    "           [ 5,  7,  3, 14],\n",
    "           [14,  6,  1,  9]])\n",
    "\n",
    "print(solve_nonhomogeneous(B))\n",
    "# The result should look like\n",
    "# [0.19444444 0.52777778 3.11111111]"
   ]
  },
  {
   "cell_type": "code",
   "execution_count": 30,
   "metadata": {},
   "outputs": [
    {
     "name": "stdout",
     "output_type": "stream",
     "text": [
      "(array([-2.99214286,  0.35642857,  4.61571429,  2.55      ,  1.        ]), array([-6.15785715,  0.29357143,  8.08428572,  4.95      ,  2.        ]))\n"
     ]
    }
   ],
   "source": [
    "C = np.array([[14, 14,  0, 18,  2, 11],\n",
    "           [12, 12,  5,  1, 19, 13],\n",
    "           [ 9,  3,  7,  1,  2, 11],\n",
    "           [18, 10,  6, 12,  8, 16]])\n",
    "\n",
    "print(solve_nonhomogeneous(C))\n",
    "# The result should look like\n",
    "# (array([-2.99214286,  0.35642857,  4.61571429,  2.55      ,  1.        ]), \n",
    "# array([-6.15785714,  0.29357143,  8.08428571,  4.95      ,  2.        ]))\n",
    "# The results are not unique"
   ]
  },
  {
   "cell_type": "code",
   "execution_count": 31,
   "metadata": {},
   "outputs": [
    {
     "name": "stdout",
     "output_type": "stream",
     "text": [
      "(array([-3.16571429, -0.06285714,  3.46857143,  2.4       ,  1.        ]), [-6.33142858, -0.12571428, 6.93714286, 4.8, 2.0])\n",
      "[10.99999996 12.99999998 11.00000002 16.        ]\n",
      "[10.99999994 12.99999997 11.         15.99999996]\n",
      "[-2.00000017e-08 -1.00000008e-08 -2.00000017e-08 -4.00000033e-08]\n",
      "[-2.99214286  0.35642857  4.61571429  2.55        1.        ]\n"
     ]
    }
   ],
   "source": [
    "C = np.array([[14, 14,  0, 18,  2],\n",
    "              [12, 12,  5,  1, 19],\n",
    "              [ 9,  3,  7,  1,  2],\n",
    "              [18, 10,  6, 12,  8]])\n",
    "\n",
    "print(solve_homogeneous(C))\n",
    "\n",
    "b1 = np.array([0.17357143, 0.41928571, 1.14714286, 0.15      , 0.  ])\n",
    "b2 = np.array([-2.99214286,  0.35642857,  4.61571429,  2.55      ,  1.])\n",
    "xn = np.array([-3.16571429, -0.06285714,  3.46857143,  2.4       ,  1.        ])\n",
    "\n",
    "print(C @ b1)\n",
    "print(C @ b2)\n",
    "print(C @ xn)\n",
    "print(b1 + xn)"
   ]
  },
  {
   "cell_type": "markdown",
   "metadata": {},
   "source": [
    "Make sure you pass the following test. Note that, passing the test set does not guarantee you with full mark. We will use different cases when testing your implementation."
   ]
  },
  {
   "cell_type": "code",
   "execution_count": 32,
   "metadata": {},
   "outputs": [
    {
     "name": "stdout",
     "output_type": "stream",
     "text": [
      "True\n",
      "True\n",
      "True\n"
     ]
    }
   ],
   "source": [
    "def test_nonhomogeneous_no_solution():\n",
    "    import random\n",
    "    for i in range(1000):\n",
    "        m = np.random.randint(low=3, high=6)\n",
    "        n = np.random.randint(low=3, high=6)\n",
    "        a = np.random.randn(m, n)\n",
    "        a_ = a.copy()\n",
    "        # create matrices whose rows conflict\n",
    "        cflt = random.sample(range(0, m), np.random.randint(low=2, high=m + 1))\n",
    "        duplicate = a[cflt[0]]\n",
    "        for row in cflt:\n",
    "            a[row] = duplicate\n",
    "            a[row][-1] = np.random.normal(loc=a[row][-1])\n",
    "        if solve_nonhomogeneous(a):\n",
    "            print(a_, '\\n')\n",
    "            print(f'the solution should be None, but got {solve_nonhomogeneous(a)}')\n",
    "            return False\n",
    "    return True\n",
    "\n",
    "def test_nonhomogeneous_single_solution():\n",
    "    # test square A\n",
    "    for i in range(1000):\n",
    "        m = np.random.randint(low=3, high=6)\n",
    "        n = m + 1\n",
    "        a = np.random.randn(m, n)\n",
    "        x = np.expand_dims(solve_nonhomogeneous(a), axis=1)\n",
    "        if abs(np.sum(a[:, :-1] @ x) - np.sum(a[:, -1])) > 1e-6:\n",
    "            print(a, '\\n')\n",
    "            print('the solution is not correct')\n",
    "            return False\n",
    "    test_list = [\n",
    "        np.array([[1, 1, 1], [1, 3, 3], [2, 2, 2]]),\n",
    "        np.array([[1, 2, 3, 2], [2, 4, 6, 4], [3, 6, 9, 6], [4, 7, 9, 10], [1, 2, 4, 7]]),\n",
    "    ]\n",
    "    # test A with m>n\n",
    "    for case in test_list:\n",
    "        x = np.expand_dims(solve_nonhomogeneous(case), axis=1)\n",
    "        if abs(np.sum(case[:, :-1] @ x) - np.sum(case[:, -1])) > 1e-6:\n",
    "            print(a, '\\n')\n",
    "            print('the solution is not correct')\n",
    "            return False\n",
    "    return True\n",
    "\n",
    "def test_nonhomogeneous_infinite_solution():\n",
    "    import random\n",
    "    for i in range(1000):\n",
    "        # test A with m=n and m<n whose rows are dependent\n",
    "        m = np.random.randint(low=2, high=5)\n",
    "        n = m + np.random.randint(low=1, high=4)\n",
    "        a = np.random.randn(m, n)\n",
    "        a_ = a.copy()\n",
    "        # create matrices whose rows or columns are dependent\n",
    "        dpdt = random.sample(range(0, m), np.random.randint(low=2, high=m + 1))\n",
    "        duplicate = a[dpdt[0]]\n",
    "        for row in dpdt:\n",
    "            a[row] = duplicate\n",
    "        x1 = np.expand_dims(solve_nonhomogeneous(a)[0], axis=1)\n",
    "        x2 = np.expand_dims(solve_nonhomogeneous(a)[1], axis=1)\n",
    "        if abs(np.sum(a[:, :-1] @ x1) - np.sum(a[:, -1])) > 1e-6 or abs(\n",
    "                np.sum(a[:, :-1] @ x2) - np.sum(a[:, -1])) > 1e-6 or (x1==x2).all():\n",
    "            print(a_, '\\n')\n",
    "            print('the solutions are not correct')\n",
    "            return False\n",
    "        # test A with m<n whose rows are not dependent\n",
    "        if n > m + 1:\n",
    "            x1 = np.expand_dims(solve_nonhomogeneous(a_)[0], axis=1)\n",
    "            x2 = np.expand_dims(solve_nonhomogeneous(a_)[1], axis=1)\n",
    "            if abs(np.sum(a[:, :-1] @ x1) - np.sum(a[:, -1])) > 1e-6 or abs(\n",
    "                    np.sum(a[:, :-1] @ x2) - np.sum(a[:, -1])) > 1e-6 or (x1==x2).all():\n",
    "                print(a_, '\\n')\n",
    "                print('the solutions are not correct')\n",
    "                return False\n",
    "    # test A with m>n whose rows are dependent\n",
    "    test_list = [\n",
    "        np.array([[1, 2, 3], [2, 4, 6], [3, 6, 9]]),\n",
    "        np.array([[1, 2, 3, 4], [2, 4, 6, 8], [1, 4, 7, 9], [1, 2, 3, 4], [2, 4, 6, 8]]),\n",
    "    ]\n",
    "    for case in test_list:\n",
    "        x1 = np.expand_dims(solve_nonhomogeneous(case)[0], axis=1)\n",
    "        x2 = np.expand_dims(solve_nonhomogeneous(case)[1], axis=1)\n",
    "        if abs(np.sum(case[:, :-1] @ x1) - np.sum(case[:, -1])) > 1e-6 or abs(\n",
    "                np.sum(case[:, :-1] @ x2) - np.sum(case[:, -1])) > 1e-6 or (x1==x2).all():\n",
    "            print(case, '\\n')\n",
    "            print('the solutions are not correct')\n",
    "            return False\n",
    "    return True\n",
    "\n",
    "print(test_nonhomogeneous_no_solution())\n",
    "print(test_nonhomogeneous_single_solution())\n",
    "print(test_nonhomogeneous_infinite_solution())"
   ]
  },
  {
   "cell_type": "markdown",
   "metadata": {},
   "source": [
    "## Task 3: Rank, Basis and Span\n",
    "\n",
    "Given a matrix $X$, would it be possible for you to programmably determine its rank, null space and column space? In this question, you are tasked at **1) finding the rank and the dimension of the null space $X$, 2) finding the basis that spans the column space of $X$, and 3) finding the basis that spans the null space of $X$.**"
   ]
  },
  {
   "cell_type": "markdown",
   "metadata": {},
   "source": [
    "---\n",
    "**Task 3.1**: Implement two functions `rank`, `dim_null`.\n",
    "\n",
    "`rank`: takes arbitrary matrix $X$ as input, output its rank.\n",
    "\n",
    "`dim_null`: takes arbitrary matrix $X$ as input, output the dimension of its null space\n",
    "\n",
    "**Note: If you didn't get Gaussian Elimination in task2, you may use the library function `sp.Matrix(X).rref()` to get the reduced row echelon form of $X$. But, you must not use other library functions that can solve questions directly.**"
   ]
  },
  {
   "cell_type": "code",
   "execution_count": 33,
   "metadata": {},
   "outputs": [],
   "source": [
    "def rank(A):\n",
    "    # TODO: get rank of A\n",
    "    rows, cols = A.shape\n",
    "    rref_A = gaussian_elim(A)\n",
    "    # print(rref_A)\n",
    "    # rank is number of non-zero rows after rref, so loop through rows\n",
    "    # to see how many rows are non-zero\n",
    "    # set defualt rank to 0\n",
    "    rank = 0\n",
    "    for row in rref_A:\n",
    "        if all(element == 0 for element in row):\n",
    "            continue\n",
    "        else:\n",
    "            rank += 1\n",
    "    return rank\n",
    "    \n",
    "def dim_null(A):\n",
    "    # TODO: get dimension of the null space of A\n",
    "    rows, cols = A.shape\n",
    "    rref_A = gaussian_elim(A)\n",
    "    # the nullity is the number of free variables after rref, so \n",
    "    # identify columns with pivots (leading 1)\n",
    "    pivot_columns = []\n",
    "    \n",
    "    for row in rref_A:\n",
    "        for col, element in enumerate(row):\n",
    "            if element == 1:\n",
    "                pivot_columns.append(col)\n",
    "                break\n",
    "    # n - len\n",
    "    return cols - len(pivot_columns)"
   ]
  },
  {
   "cell_type": "code",
   "execution_count": 34,
   "metadata": {},
   "outputs": [
    {
     "name": "stdout",
     "output_type": "stream",
     "text": [
      "0\n",
      "3\n"
     ]
    }
   ],
   "source": [
    "A = np.array([[0, 0, 0], \n",
    "              [0, 0, 0], \n",
    "              [0, 0, 0]])\n",
    "\n",
    "print(rank(A))\n",
    "print(dim_null(A))\n",
    "\n",
    "# you should get\n",
    "# 0\n",
    "# 3"
   ]
  },
  {
   "cell_type": "code",
   "execution_count": 35,
   "metadata": {},
   "outputs": [
    {
     "name": "stdout",
     "output_type": "stream",
     "text": [
      "4\n",
      "1\n"
     ]
    }
   ],
   "source": [
    "B = np.array([[16,  8, 12,  8,  5],\n",
    "               [ 0,  7,  9, 14,  2],\n",
    "               [14, 12, 13, 15, 14],\n",
    "               [13, 18, 16, 19, 12]])\n",
    "\n",
    "print(rank(B))\n",
    "print(dim_null(B))\n",
    "\n",
    "# you should get\n",
    "# 4\n",
    "# 1"
   ]
  },
  {
   "cell_type": "code",
   "execution_count": 36,
   "metadata": {},
   "outputs": [
    {
     "name": "stdout",
     "output_type": "stream",
     "text": [
      "3\n",
      "0\n"
     ]
    }
   ],
   "source": [
    "C = np.array([[ 1,  8,  4],\n",
    "               [ 0,  0, 11],\n",
    "               [15,  2, 11],\n",
    "               [12,  0,  3]])\n",
    "\n",
    "print(rank(C))\n",
    "print(dim_null(C))\n",
    "\n",
    "# you should get\n",
    "# 3\n",
    "# 0"
   ]
  },
  {
   "cell_type": "markdown",
   "metadata": {},
   "source": [
    "Make sure you pass the following test. Here we only provide the test for the rank."
   ]
  },
  {
   "cell_type": "code",
   "execution_count": 37,
   "metadata": {},
   "outputs": [
    {
     "data": {
      "text/plain": [
       "True"
      ]
     },
     "execution_count": 37,
     "metadata": {},
     "output_type": "execute_result"
    }
   ],
   "source": [
    "def test_rank():\n",
    "    for _ in range(1000):\n",
    "        rnd_h = np.random.randint(1, 10)\n",
    "        rnd_w = np.random.randint(1, 10)\n",
    "        rnd_mat = np.random.choice(100, [rnd_h, rnd_w], replace=True).astype(np.float64)\n",
    "        if rank(rnd_mat) != np.linalg.matrix_rank(rnd_mat):\n",
    "            return False\n",
    "    return True\n",
    "test_rank()"
   ]
  },
  {
   "cell_type": "markdown",
   "metadata": {},
   "source": [
    "\n",
    "\n",
    "---\n",
    "**Task 3.2**: Implement `basis_col`.\n",
    "\n",
    "`basis_col`: takes arbitrary matrix $X$ as input, output a basis that spans the column space of $X$. The basis should be a numpy array or a list, containing several numpy array vectors. \n",
    "\n",
    "---"
   ]
  },
  {
   "cell_type": "code",
   "execution_count": 38,
   "metadata": {},
   "outputs": [],
   "source": [
    "def basis_col(A):\n",
    "    # TODO: get a basis for the column space.\n",
    "    rows, cols = A.shape\n",
    "    rref_A = gaussian_elim(A)\n",
    "    \n",
    "    # identify columns with pivots (leading 1)\n",
    "    pivot_columns = []\n",
    "    \n",
    "    for row in rref_A:\n",
    "        for col, element in enumerate(row):\n",
    "            if element == 1:\n",
    "                pivot_columns.append(col)\n",
    "                break\n",
    "    # The basis that spans the col space are the columns that\n",
    "    # contain a pivot\n",
    "    # Need to output the columns from pivot columns (has col idx)\n",
    "    if pivot_columns == []:\n",
    "        return np.zeros((rows,1))\n",
    "    else:\n",
    "        return A[:, pivot_columns] "
   ]
  },
  {
   "cell_type": "code",
   "execution_count": 39,
   "metadata": {},
   "outputs": [
    {
     "name": "stdout",
     "output_type": "stream",
     "text": [
      "[[0.]\n",
      " [0.]\n",
      " [0.]]\n"
     ]
    }
   ],
   "source": [
    "A = np.array([[0, 0, 0], \n",
    "              [0, 0, 0], \n",
    "              [0, 0, 0]])\n",
    "\n",
    "print(basis_col(A))\n",
    "\n",
    "# should return \n",
    "# array([[0], [0], [0]])"
   ]
  },
  {
   "cell_type": "code",
   "execution_count": 40,
   "metadata": {},
   "outputs": [
    {
     "name": "stdout",
     "output_type": "stream",
     "text": [
      "[[13 11  6  9]\n",
      " [ 0 12 16 11]\n",
      " [ 5 15  8  3]\n",
      " [16  3  1 14]]\n"
     ]
    }
   ],
   "source": [
    "B = np.array([[13, 11,  6,  9,  6],\n",
    "            [ 0, 12, 16, 11, 14],\n",
    "            [ 5, 15,  8,  3,  0],\n",
    "            [16,  3,  1, 14,  5]])\n",
    "\n",
    "print(basis_col(B))\n",
    "\n",
    "# should return something like\n",
    "# array([[13, 11, 6, 9], [0, 12, 16, 11], [5, 15, 8, 3], [16, 3, 1, 14]])\n",
    "# the solution is not unique"
   ]
  },
  {
   "cell_type": "code",
   "execution_count": 41,
   "metadata": {},
   "outputs": [
    {
     "name": "stdout",
     "output_type": "stream",
     "text": [
      "[[1]\n",
      " [1]\n",
      " [1]]\n"
     ]
    }
   ],
   "source": [
    "C = np.array([[1, 1], \n",
    "              [1, 1], \n",
    "              [1, 1]])\n",
    "\n",
    "print(basis_col(C))\n",
    "# should return something like\n",
    "# array([[1], [1], [1]])\n",
    "# the solution is not unique"
   ]
  },
  {
   "cell_type": "markdown",
   "metadata": {},
   "source": [
    "We will use more test cases when testing your implementation."
   ]
  },
  {
   "cell_type": "markdown",
   "metadata": {},
   "source": [
    "---\n",
    "**Task 3.3**: Implement `basis_null`.\n",
    "\n",
    "`basis_null`: takes arbitrary matrix $X$ as input, output a basis that spans the null space of $X$. The basis should be a numpy array or a list, containing several numpy array vectors.\n",
    "\n",
    "---"
   ]
  },
  {
   "cell_type": "code",
   "execution_count": 42,
   "metadata": {},
   "outputs": [],
   "source": [
    "def basis_null(A):\n",
    "    # TODO: get a basis for the null space.\n",
    "    rows, cols = A.shape\n",
    "    rref_A = gaussian_elim(A)\n",
    "    \n",
    "    # Identify pivot columns\n",
    "    pivot_columns = [] # indexes of columns that are pivots\n",
    "    for row in rref_A:\n",
    "        for col, element in enumerate(row):\n",
    "            if element == 1:\n",
    "                pivot_columns.append(col)\n",
    "                break\n",
    "\n",
    "    # Identify free variables (columns that do not have leading ones\n",
    "    # (pivots))\n",
    "    free_vars = [i for i in range(cols) if i not in pivot_columns]\n",
    "    \n",
    "    basis_null_space = []\n",
    "    # for each free var (non pivot col), form a basis vector\n",
    "    for free_var in free_vars:\n",
    "        basis_vector = np.zeros(cols) # fill with zeros\n",
    "        basis_vector[free_var] = 1 # set free var to 1 to solve basic variables\n",
    "    \n",
    "        # Loop through to populate the entries using the \n",
    "        # free var and get the vector in the null space.\n",
    "        for row, pivot in enumerate(pivot_columns):\n",
    "            basis_vector[pivot] = -rref_A[row][free_var]\n",
    "\n",
    "        basis_null_space.append([round(i, 6) for i in basis_vector])\n",
    "    \n",
    "    if basis_null_space == []:\n",
    "        return np.zeros((rows,1))\n",
    "    else:\n",
    "        return np.array(basis_null_space).T"
   ]
  },
  {
   "cell_type": "code",
   "execution_count": 43,
   "metadata": {},
   "outputs": [
    {
     "name": "stdout",
     "output_type": "stream",
     "text": [
      "[[1. 0. 0.]\n",
      " [0. 1. 0.]\n",
      " [0. 0. 1.]]\n"
     ]
    }
   ],
   "source": [
    "A = np.array([[0, 0, 0], \n",
    "              [0, 0, 0], \n",
    "              [0, 0, 0]])\n",
    "\n",
    "print(basis_null(A))\n",
    "\n",
    "# should return something like an identity matrix. The solution is not unique."
   ]
  },
  {
   "cell_type": "code",
   "execution_count": 44,
   "metadata": {},
   "outputs": [
    {
     "name": "stdout",
     "output_type": "stream",
     "text": [
      "[[0.]\n",
      " [0.]\n",
      " [0.]]\n"
     ]
    }
   ],
   "source": [
    "B = np.array([[16, 16, 11],\n",
    "            [14, 19, 11],\n",
    "            [11, 12, 19]])\n",
    "\n",
    "print(basis_null(B))\n",
    "\n",
    "# should return\n",
    "# array([[0], [0], [0]])"
   ]
  },
  {
   "cell_type": "code",
   "execution_count": 45,
   "metadata": {},
   "outputs": [
    {
     "name": "stdout",
     "output_type": "stream",
     "text": [
      "[[-1.51875  -0.8125  ]\n",
      " [-3.675    -3.25    ]\n",
      " [ 3.571875  3.28125 ]\n",
      " [ 1.        0.      ]\n",
      " [ 0.        1.      ]]\n"
     ]
    }
   ],
   "source": [
    "C = np.array([[ 0, 18, 16,  9, 6],\n",
    "                [ 3, 14, 14,  6, 2],\n",
    "                [14,  3,  4, 18, 8]])\n",
    "\n",
    "\n",
    "print(basis_null(C))\n",
    "\n",
    "# should return something like\n",
    "# array([[-1.51875 , -0.8125], [-3.675,      -3.25], [ 3.571875, 3.28125], [ 1.      , 0], [ 0.      , 1]])\n",
    "# the solution is not unique"
   ]
  },
  {
   "cell_type": "markdown",
   "metadata": {},
   "source": [
    "We will use more test cases when testing your implementation."
   ]
  }
 ],
 "metadata": {
  "kernelspec": {
   "display_name": "Python 3 (ipykernel)",
   "language": "python",
   "name": "python3"
  },
  "language_info": {
   "codemirror_mode": {
    "name": "ipython",
    "version": 3
   },
   "file_extension": ".py",
   "mimetype": "text/x-python",
   "name": "python",
   "nbconvert_exporter": "python",
   "pygments_lexer": "ipython3",
   "version": "3.11.7"
  }
 },
 "nbformat": 4,
 "nbformat_minor": 4
}
