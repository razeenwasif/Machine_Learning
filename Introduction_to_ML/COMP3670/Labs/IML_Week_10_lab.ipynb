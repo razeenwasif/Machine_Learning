{
 "cells": [
  {
   "cell_type": "markdown",
   "metadata": {},
   "source": [
    "**COMP3670/6670 Tutorial Week 10**\n",
    "---"
   ]
  },
  {
   "cell_type": "code",
   "execution_count": null,
   "metadata": {},
   "outputs": [],
   "source": [
    "import numpy as np\n",
    "import matplotlib.pyplot as plt"
   ]
  },
  {
   "cell_type": "markdown",
   "metadata": {},
   "source": [
    "# Task 0: MNIST Dataset (Recap)"
   ]
  },
  {
   "cell_type": "code",
   "execution_count": null,
   "metadata": {},
   "outputs": [],
   "source": [
    "from sklearn import datasets\n",
    "from sklearn.model_selection import train_test_split\n",
    "digits,labels = datasets.load_digits(return_X_y=True)\n",
    "X = digits\n",
    "y = labels\n",
    "\n",
    "def print_heatmap(data, l=8, h=8):\n",
    "    plt.matshow(data.reshape(l,h), cmap=plt.cm.gray)\n",
    "\n",
    "print_heatmap(X[42]) #print digits\n"
   ]
  },
  {
   "cell_type": "code",
   "execution_count": null,
   "metadata": {},
   "outputs": [],
   "source": [
    "TEST_SIZE = 0.5\n",
    "X_train, X_test, y_train, y_test = train_test_split(X, y, random_state=0, test_size=TEST_SIZE)\n",
    "\n",
    "print(\"Total dataset\", np.shape(X))\n",
    "print(\"Split dataset (Train)\", np.shape(X_train))\n",
    "print(\"Split dataset (Test)\", np.shape(X_test))"
   ]
  },
  {
   "cell_type": "markdown",
   "metadata": {},
   "source": [
    "# MLP"
   ]
  },
  {
   "cell_type": "code",
   "execution_count": null,
   "metadata": {},
   "outputs": [],
   "source": [
    "import warnings\n",
    "from sklearn.exceptions import ConvergenceWarning\n",
    "from sklearn.neural_network import MLPClassifier\n",
    "\n",
    "#The MLP input layer has 64 pixel inputs (8x8 image). The output layer predicts 10 labels. \n",
    "#Hidden layers form connected perceptron between input and output layers.\n",
    "#(64,32) denotes a first layer with 64 perceptrons connected to the input layer, \n",
    "#then another hidden layer with 32 perceptrons connected to the first hidden layer\n",
    "#and to the output layer. How do these choices matter? \n",
    "# hidden_layers = (64,32)\n",
    "hidden_layers = (64,)\n",
    "max_iterations = 10\n",
    "#Max iterations is set to 10. Can you set it higher? Will a higher value ensure every iteration is used?\n",
    "\n",
    "mlp = MLPClassifier(hidden_layer_sizes=hidden_layers, max_iter=max_iterations, activation = 'logistic', random_state=42, verbose=1)\n",
    "\n",
    "with warnings.catch_warnings():\n",
    "    warnings.filterwarnings(\"ignore\", category=ConvergenceWarning, module=\"sklearn\")\n",
    "    mlp.fit(X_train, y_train) #Code to catch convergence warnings\n",
    "\n",
    "print(\"Training set score: %f\" % mlp.score(X_train, y_train))\n",
    "print(\"Test set score: %f\" % mlp.score(X_test, y_test))\n",
    "\n"
   ]
  },
  {
   "cell_type": "code",
   "execution_count": null,
   "metadata": {},
   "outputs": [],
   "source": [
    "#Visualising hidden layer weights\n",
    "import math\n",
    "for i, layer in enumerate(hidden_layers):\n",
    "    fig, axes = plt.subplots(1, layer, figsize=(30, 3))\n",
    "    vmin, vmax = mlp.coefs_[i].min(), mlp.coefs_[i].max()\n",
    "    for coef, ax in zip(mlp.coefs_[i].T, axes.ravel()):\n",
    "        #display square subset\n",
    "        mat_side = math.floor(math.sqrt(len(coef)))\n",
    "        #For visualising only showing the largest square matrix the weights represent\n",
    "        ax.matshow(coef[:mat_side*mat_side].reshape(mat_side, mat_side), cmap=plt.cm.gray, vmin=vmin, vmax=vmax)\n",
    "        ax.set_xticks(())\n",
    "        ax.set_yticks(())\n",
    "    \n",
    "plt.show()"
   ]
  },
  {
   "cell_type": "markdown",
   "metadata": {},
   "source": [
    "# Task: Test score vs max iterations"
   ]
  },
  {
   "cell_type": "code",
   "execution_count": null,
   "metadata": {},
   "outputs": [],
   "source": [
    "#Can you try the same MLP with different max_iterations up to 1000? What is the test score mlp.score(X_test, y_test)?\n",
    "#Try to plot this"
   ]
  },
  {
   "cell_type": "markdown",
   "metadata": {},
   "source": [
    "# Task: Test score vs architecture"
   ]
  },
  {
   "cell_type": "code",
   "execution_count": null,
   "metadata": {},
   "outputs": [],
   "source": [
    "#For this task set the maximum iterations to be 1000.\n",
    "#Is there a 'best' architecture? \n",
    "#What about wider networks (62) or (128)?\n",
    "#What about deeper networks (64,64) or (64,32) or (32,32,32)?\n",
    "#Can you check the test score for different architectures?\n"
   ]
  },
  {
   "cell_type": "markdown",
   "metadata": {},
   "source": [
    "# Probabilities of Detections"
   ]
  },
  {
   "cell_type": "code",
   "execution_count": null,
   "metadata": {},
   "outputs": [],
   "source": [
    "def plot_detection_probabilities(entry):\n",
    "    probabilities = mlp.predict_proba([entry])[0]\n",
    "    # print(np.sum(probabilities)) #What do you think this should be? \n",
    "    plt.bar(np.arange(10), probabilities, color='k')\n",
    "    plt.xticks(np.arange(10))\n",
    "    plt.ylabel(\"probability\")\n",
    "    plt.xlabel(\"digit labels\")\n",
    "    plt.show()\n"
   ]
  },
  {
   "cell_type": "code",
   "execution_count": null,
   "metadata": {},
   "outputs": [],
   "source": [
    "plot_detection_probabilities(X_test[42])\n",
    "print_heatmap(X_test[42])"
   ]
  },
  {
   "cell_type": "markdown",
   "metadata": {},
   "source": [
    "# Task: High confidence vs low confidence classifications"
   ]
  },
  {
   "cell_type": "code",
   "execution_count": null,
   "metadata": {},
   "outputs": [],
   "source": [
    "#Try different entries from the test set to see if you can find a low confidence example\n",
    "#What would such an example look like in the probability distribution plot?"
   ]
  }
 ],
 "metadata": {
  "kernelspec": {
   "display_name": "Python 3 (ipykernel)",
   "language": "python",
   "name": "python3"
  },
  "language_info": {
   "codemirror_mode": {
    "name": "ipython",
    "version": 3
   },
   "file_extension": ".py",
   "mimetype": "text/x-python",
   "name": "python",
   "nbconvert_exporter": "python",
   "pygments_lexer": "ipython3",
   "version": "3.11.8"
  }
 },
 "nbformat": 4,
 "nbformat_minor": 4
}
