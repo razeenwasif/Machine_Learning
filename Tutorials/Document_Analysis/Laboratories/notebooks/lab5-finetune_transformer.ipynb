{
 "cells": [
  {
   "cell_type": "markdown",
   "id": "4efadd59-b8c3-4503-96f9-551aa8ae04c8",
   "metadata": {},
   "source": [
    "# Fine-tuning a Pre-trained Transformer for Document Classification"
   ]
  },
  {
   "cell_type": "markdown",
   "id": "1eb7b30b-6bb4-4140-a43d-d47b4e6c9ddf",
   "metadata": {},
   "source": [
    "In this lab you will fine-tune a pre-trained transformer model using the huggingface `transformers` library. This library provides a number of transformer models such as BERT, XLNet, and GPT, that can be used with PyTorch or Tensorflow. The tokenisers for these models are also included, which makes using transformers with this library much easier than developing them from scratch."
   ]
  },
  {
   "cell_type": "markdown",
   "id": "60c79194-7436-4f62-b871-d05c70bc8b92",
   "metadata": {},
   "source": [
    "The [DistilBERT](https://huggingface.co/docs/transformers/model_doc/distilbert) which is a smaller version of BERT will be used in this lab. It is much faster to fine-tune, but will give slightly worse performance than the original BERT model."
   ]
  },
  {
   "cell_type": "markdown",
   "id": "f73e48ea-0371-4f75-a0c7-ce8558d5f63f",
   "metadata": {},
   "source": [
    "For the dataset we will use the [IMDB movie review data](https://huggingface.co/datasets/imdb) where the task is to classify a review as either positive if the reviewer liked the movie or negative if the reviewer did not like the movie. The input is the text of the review and the output is a binary label either 0 (negative) or 1 (positive).\n",
    "In previous labs and the assignments, you have explored this dataset multiple times but with a differnt train/validation/test splits. "
   ]
  },
  {
   "cell_type": "markdown",
   "id": "192d17cb-dfcb-4934-aa04-5d00e30e59a0",
   "metadata": {},
   "source": [
    "We will use both `pytorch` and the `transformers` library, as well as a few other useful libraries such as `tqdm` to make progress bars, and `sklearn` for its evaluation metric.\n",
    "\n",
    "We will also use the `datasets` library which is the huggingface datasets library and can be installed using `pip`."
   ]
  },
  {
   "cell_type": "code",
   "execution_count": null,
   "id": "8264b8ca-f0cf-4fe0-b356-ca24091bda87",
   "metadata": {},
   "outputs": [],
   "source": [
    "# Uncomment the code below to install the packages needed.\n",
    "\n",
    "# %pip install transformers datasets ipywidgets"
   ]
  },
  {
   "cell_type": "code",
   "execution_count": null,
   "id": "af6fa4ff-a38d-409f-8845-1b26f6e93de4",
   "metadata": {},
   "outputs": [],
   "source": [
    "import torch\n",
    "from torch.utils.data import DataLoader\n",
    "from sklearn.metrics import f1_score\n",
    "from tqdm.notebook import tqdm\n",
    "from datasets import load_dataset\n",
    "from transformers import DistilBertTokenizerFast\n",
    "from transformers import DistilBertForSequenceClassification\n",
    "import numpy as np\n",
    "from pprint import pprint"
   ]
  },
  {
   "cell_type": "code",
   "execution_count": null,
   "id": "65ab68a8-0652-4cc5-96aa-b946404fdc76",
   "metadata": {},
   "outputs": [],
   "source": [
    "device = torch.device('cuda' if torch.cuda.is_available() else 'cpu')"
   ]
  },
  {
   "cell_type": "markdown",
   "id": "02357842-704f-4be0-a32f-e59e8187a295",
   "metadata": {},
   "source": [
    "## Dataset\n",
    "\n",
    "First, load the `imdb` data using the huggingface `datasets` library, which will automatically download the data if it is not already cached on your system."
   ]
  },
  {
   "cell_type": "code",
   "execution_count": null,
   "id": "5e7b8631-e6fc-4ca6-932a-c6fd6adbd3a2",
   "metadata": {},
   "outputs": [],
   "source": [
    "data = load_dataset(\"imdb\")"
   ]
  },
  {
   "cell_type": "markdown",
   "id": "a5642686-66a4-4372-83d6-880f9fefcd0f",
   "metadata": {},
   "source": [
    "If you print the `data` variable you will see that you have a dictionary like object with keys `test`, `train`, `unsupervised`, and values of `TorchIterableDataset`. We will only use the `test` and `train` data for this lab. You can inspect the first element of the data as follows:"
   ]
  },
  {
   "cell_type": "code",
   "execution_count": null,
   "id": "a88193e5-a0cc-43bc-a186-ff7b1875aede",
   "metadata": {},
   "outputs": [],
   "source": [
    "pprint(data['train'][0])"
   ]
  },
  {
   "cell_type": "markdown",
   "id": "ffe4bb87-c4db-4707-b07f-06713cbf9d97",
   "metadata": {},
   "source": [
    "If you do this you will get a dictionary with both the `label` and the `text` of the first element. The label indicates if this text is a positive or negative review."
   ]
  },
  {
   "cell_type": "markdown",
   "id": "df8a0ca8-bd5d-4fbe-af17-642dd8580666",
   "metadata": {},
   "source": [
    "### Tokeniser\n",
    "\n",
    "Since the `text` is currently a string of characters we need to:\n",
    "1. Split the sequence into tokens (i.e. word-pieces for BERT models but will be different depending on the pre-trained model)\n",
    "2. Represent the sequence as token/word-piece ids\n",
    "3. Add a `[CLS]` token to the start of the sequence, and a `[SEP]` token to the end\n",
    "4. Pad the sequences with `0`'s so they are all of the same length\n",
    "5. Construct an attention mask for the input (to identify which parts of the input are padding and so should be ignored)\n",
    "\n",
    "Fortunately, the `transformers` library provides an easy way to do all of this."
   ]
  },
  {
   "cell_type": "markdown",
   "id": "502e6d3e-00fe-4e07-88ed-0dafcfaf3c46",
   "metadata": {},
   "source": [
    "First, get the tokeniser specific to DistilBert ([documentation here](https://huggingface.co/docs/transformers/model_doc/distilbert)). \\\n",
    "This will download the tokeniser for the lowercase only version of DistilBert. The download is only a few kilobytes. "
   ]
  },
  {
   "cell_type": "code",
   "execution_count": null,
   "id": "6751491b-b420-48fd-b44e-080f59ef25a9",
   "metadata": {},
   "outputs": [],
   "source": [
    "model_name = \"distilbert-base-uncased\"\n",
    "tok = DistilBertTokenizerFast.from_pretrained(model_name)"
   ]
  },
  {
   "cell_type": "markdown",
   "id": "aed0e1df-14a7-464e-b766-7d1455feaad6",
   "metadata": {},
   "source": [
    "Next, write a function to apply the tokeniser to the `text` field in the dataset.\n",
    "\n",
    "This will do all the steps 1-5 listed above and return the attention mask and the sequence of ids. The arguments indicate we are truncating sequences longer than the maximum length, and padding all sequences that are less than the maximum length so that they are exactly the maximum length. The maximum length for the DistilBert model is 512 word-pieces."
   ]
  },
  {
   "cell_type": "code",
   "execution_count": null,
   "id": "8e46fed0-54e8-4997-90fd-aa9d22a0a984",
   "metadata": {},
   "outputs": [],
   "source": [
    "def tokenize_fn(X):\n",
    "    return tok(X[\"text\"], truncation = True, padding=\"max_length\")"
   ]
  },
  {
   "cell_type": "markdown",
   "id": "f559facb-191c-4767-8daf-3726021f1512",
   "metadata": {},
   "source": [
    "### Training data"
   ]
  },
  {
   "cell_type": "markdown",
   "id": "72026794-0265-4e92-a549-856242cff977",
   "metadata": {},
   "source": [
    "Now we can apply the tokeniser to the text as follows:"
   ]
  },
  {
   "cell_type": "code",
   "execution_count": null,
   "id": "a80bd979-9f01-402c-a755-27718a6b1cb0",
   "metadata": {},
   "outputs": [],
   "source": [
    "shuffle_train_data = data['train'].shuffle(seed=42)\n",
    "tokenized_train_data = shuffle_train_data.map(tokenize_fn, batched=True)\n",
    "small_train_data = tokenized_train_data.select(range(1000))\n",
    "small_train_data = small_train_data.with_format(\"torch\", columns=[\"label\", \"input_ids\", \"attention_mask\"])"
   ]
  },
  {
   "cell_type": "markdown",
   "id": "5b5a9645-a2bf-4c65-b41a-93a1a541f762",
   "metadata": {},
   "source": [
    "The part which actually applies the tokeniser is the `map` call. This will call the `tokenize_fn` function on each of the examples in `data['train']`.\n",
    "\n",
    "The `shuffle` ensures the data is in a random order (if you don't do this you will run into problems because the dataset has all the 0 classes first followed by all the 1 classes).\n",
    "\n",
    "The `select` statement just extracts the first 1000 examples (of the shuffled list), if you were training this model to get the best performance you would use all the examples but for this lab we will use only 1000 to avoid waiting around for the model to train.\n",
    "\n",
    "The final line which calls `with_format` is responsible for converting the data columns `label`, `input_ids`, and `attention_mask` into PyTorch tensors."
   ]
  },
  {
   "cell_type": "markdown",
   "id": "9753957f-05eb-41b9-b7d4-f78cc55bfb0f",
   "metadata": {},
   "source": [
    "It is worthwhile to inspect `small_train_data` at this point. To do this use:"
   ]
  },
  {
   "cell_type": "code",
   "execution_count": null,
   "id": "2682d99d-3a1a-487e-a258-fef033e4595e",
   "metadata": {},
   "outputs": [],
   "source": [
    "pprint(small_train_data[0])"
   ]
  },
  {
   "cell_type": "markdown",
   "id": "2e6b2636-af9c-40ec-98a3-22c60075da3d",
   "metadata": {},
   "source": [
    "You will see that the datapoint has an `attention_mask`, `input_ids`, and `label`. The `attention_mask` and `input_ids` are new and were added by `tokenize_fn`.\n",
    "\n",
    "The `input_ids` are the padded sequences of word-piece ids, while the `attention_mask` identifies which parts of the `input_ids` are padding and so should be ignored by the attention layer. \n",
    "\n",
    "Note that the first id in the tensor of `input_ids` is `101`, which represents the `[CLS]` token, while the last non-zero id is `102` which is the `[SEP]` token. If you want to explore a bit further the mapping from tokens to ids can be accessed through the dictionary `tok.vocab`."
   ]
  },
  {
   "cell_type": "markdown",
   "id": "8898cd26-cfbe-4b42-b41f-34e434df7e3e",
   "metadata": {},
   "source": [
    "### Validation data"
   ]
  },
  {
   "cell_type": "markdown",
   "id": "76904945-5d93-4640-9798-ce38caa091c4",
   "metadata": {},
   "source": [
    "We can now create a validation dataset from the `test` data in the same way:"
   ]
  },
  {
   "cell_type": "code",
   "execution_count": null,
   "id": "ccc1d964-01f7-4bb5-9615-ec5ecfa6a051",
   "metadata": {},
   "outputs": [],
   "source": [
    "shuffle_val_data = data['test'].shuffle(seed=42)\n",
    "tokenized_val_data = shuffle_val_data.map(tokenize_fn, batched=True)\n",
    "small_val_data = tokenized_val_data.select(range(1000))\n",
    "small_val_data = small_val_data.with_format(\"torch\", columns=[\"label\", \"input_ids\", \"attention_mask\"])"
   ]
  },
  {
   "cell_type": "markdown",
   "id": "7da0e4ac-3015-45e5-81e0-f74c8ce4e932",
   "metadata": {},
   "source": [
    "## Model\n",
    "Defining and downloading the pre-trained transformer is straightforward but be aware that the download is ~270M:"
   ]
  },
  {
   "cell_type": "code",
   "execution_count": null,
   "id": "490bc3f8-952c-4ba5-a86f-8eafae50bfe6",
   "metadata": {},
   "outputs": [],
   "source": [
    "model = DistilBertForSequenceClassification.from_pretrained(model_name, num_labels=2)"
   ]
  },
  {
   "cell_type": "markdown",
   "id": "a8b9d737-b4c1-43d4-a958-36f1d90e8773",
   "metadata": {},
   "source": [
    "The above specifies downloads and sets-up a pre-trained `DistilBert` model and configures it for the sequence classification task. \n",
    "\n",
    "The download is specifically the [distilbert-base-uncased](https://huggingface.co/distilbert-base-uncased) pre-trained model, which only considers lowercase characters (there is a cased version available also `distilbert-base-cased`). \n",
    "\n",
    "Under the hood, the huggingface sequence classifier model will feed the output of the transformer (the output value at the position of the `[CLS]` token) to a new Linear layer to get logits (un-normalised scores for each of the classes). We need to provide the number of classes so the linear layers weight matrix can be properly specified. The way to do this is with the `num_labels` argument. As there are only two classes in our task (positive and negative) we specify `2` as the number of labels."
   ]
  },
  {
   "cell_type": "markdown",
   "id": "390874e5-18de-446b-8f94-2ca7b17aefab",
   "metadata": {},
   "source": [
    "The loaded `DistilBert` model is in the variable `model` which is also a PyTorch module with the normal set of PyTorch methods, such as `forward`, `parameters`, and `to`.\n",
    "\n",
    "We first move the model to the desired device such as the GPU (if available) using `model.to(device)`."
   ]
  },
  {
   "cell_type": "code",
   "execution_count": null,
   "id": "d3eb6c6f-861f-46c5-a411-99c1c7857e2b",
   "metadata": {},
   "outputs": [],
   "source": [
    "model.to(device)"
   ]
  },
  {
   "cell_type": "markdown",
   "id": "d25aa483-7ac4-4b80-abc9-5705a8d39f9c",
   "metadata": {},
   "source": [
    "### Fine-tuning"
   ]
  },
  {
   "cell_type": "markdown",
   "id": "20da3ff6-443c-4569-9ab3-cc625a15101c",
   "metadata": {},
   "source": [
    "We initialize an `AdamW` optimiser, and then start the main training loop. Which consists of a model forward pass, followed by a backward pass and optimiser step. \n",
    "\n",
    "Note that the model takes a number of arguments:\n",
    "- `labels` (optional) which are the ground truth labels (for calculating the loss function when training),\n",
    "- `input_ids` which are the padded sequences of word-pieces, and\n",
    "- `attention_mask` which is an binary mask indicating which parts of the inputs are actual tokens and which are padding tokens (we do not want the transformer to pay attention to any padding tokens);\n",
    "\n",
    "and returns a [SequenceClassifierOutput](https://huggingface.co/docs/transformers/main/en/main_classes/output#transformers.modeling_outputs.SequenceClassifierOutput) object."
   ]
  },
  {
   "cell_type": "code",
   "execution_count": null,
   "id": "6c6efe71-e851-424f-b1dd-aaa4bae07584",
   "metadata": {},
   "outputs": [],
   "source": [
    "def finetune_model(model, dataset_train, dataset_val=None, eval_fn=None, batch_size=8, n_epochs=2, learning_rate=1e-5):\n",
    "    model.train(True)\n",
    "    \n",
    "    # create a pytorch data loaders to make it easy to iterate over batches of training data\n",
    "    # see https://pytorch.org/docs/stable/data.html\n",
    "    dataloader = DataLoader(dataset_train, batch_size=batch_size, shuffle=True)\n",
    "\n",
    "    n_batches = (len(dataset_train) - 1) // batch_size + 1\n",
    "    \n",
    "    # get the AdamW optimizer\n",
    "    optimiser = torch.optim.AdamW(params=model.parameters(), lr=learning_rate)\n",
    "\n",
    "    # run the training loop\n",
    "    print(f'{\"Epoch\":>10} {\"Batch\":>20} {\"Loss\":>10}')\n",
    "    for epoch in range(n_epochs):\n",
    "        for (b, batch) in enumerate(tqdm(dataloader)):\n",
    "    \n",
    "            # run the transformer forwards\n",
    "            outputs = model(\n",
    "                labels = batch[\"label\"].to(device),\n",
    "                input_ids = batch[\"input_ids\"].to(device),\n",
    "                attention_mask = batch[\"attention_mask\"].to(device),\n",
    "            )\n",
    "    \n",
    "            # get the classification loss\n",
    "            loss = outputs.loss\n",
    "            \n",
    "            # backpropagate then apply the optimiser\n",
    "            optimiser.zero_grad()\n",
    "            loss.backward()\n",
    "            optimiser.step()\n",
    "    \n",
    "            # print the loss\n",
    "            if (b+1) % 5 == 0:\n",
    "                print(f'{epoch+1:>10} {f\"{b+1} / {n_batches}\":>20} {format(loss.cpu().item(), \".3f\"):>10}')\n",
    "\n",
    "        # evaluate the model on validation data\n",
    "        if (dataset_val is not None) and (eval_fn is not None):\n",
    "            print('Evaluating ...')\n",
    "            f1 = eval_fn(model, dataset_val)\n",
    "            print(f'Epoch {epoch+1}: F1 score (validation) = {format(f1, \".3f\")}') \n",
    "\n",
    "    return model"
   ]
  },
  {
   "cell_type": "markdown",
   "id": "8d99068f-83bc-4b57-928b-71ea51bef2a5",
   "metadata": {},
   "source": [
    "### Exercise\n",
    "\n",
    "Implement a `evaluate_model` function which returns the F1 score of the model on the validation data. This is going to be similar to the evaluation functions you have seen in previous labs/assignments and also reasonably similar to the training loop provided above."
   ]
  },
  {
   "cell_type": "code",
   "execution_count": null,
   "id": "e0e2ed4e-5c36-42ec-8eb5-a365520b0fbb",
   "metadata": {},
   "outputs": [],
   "source": [
    "@torch.no_grad()\n",
    "def evaluate_model(model, dataset_val, batch_size=8):\n",
    "    # TODO: Implement this function which returns the F1 score of the model on the validation data.\n",
    "    model.eval() # model.train(False)\n",
    "    dataloader = DataLoader(dataset_val, batch_size=batch_size, shuffle=False) \n",
    "    predictions = [] \n",
    "    true_labels = []\n",
    "    # iterate through the dataloader in batches \n",
    "    for (b, batch) in enumerate(tqdm(dataloader)):\n",
    "        # get the data point within the batch \n",
    "        outputs = model(\n",
    "            input_ids = batch[\\\"input_ids\\\"].to(device),\n",
    "            attention_mask = batch[\\\"attention_mask\\\"].to(device),\n",
    "        )\n",
    " \n",
    "        logits = outputs.logits \n",
    "\n",
    "        predictions.extend(torch.argmax(logits, dim=1).cpu().numpy())\n",
    "        true_labels.extend(batch[\\\"label\\\"].cpu().numpy())\n",
    "    \n",
    "    model.train(True)\n",
    "    return f1_score(true_labels, predictions, average=\\\"binary\\\")"
   ]
  },
  {
   "cell_type": "markdown",
   "id": "2932797f-aa30-4f7b-9f2c-07bd491bf142",
   "metadata": {},
   "source": [
    "Fine tune the model and evaluate it on the validation set after each training epoch (this may take ~30 minutes if using CPU)."
   ]
  },
  {
   "cell_type": "code",
   "execution_count": null,
   "id": "3d529e89-e968-4042-911f-932afff288c4",
   "metadata": {},
   "outputs": [],
   "source": [
    "model = finetune_model(model, small_train_data, small_val_data, eval_fn=evaluate_model, n_epochs=2)"
   ]
  },
  {
   "cell_type": "code",
   "execution_count": null,
   "id": "14fbbb51-cd44-4de6-bebc-5ea347c730e6",
   "metadata": {},
   "outputs": [],
   "source": []
  }
 ],
 "metadata": {
  "jupytext": {
   "formats": "ipynb,py:percent"
  },
  "kernelspec": {
   "display_name": "Python 3 (ipykernel)",
   "language": "python",
   "name": "python3"
  },
  "language_info": {
   "codemirror_mode": {
    "name": "ipython",
    "version": 3
   },
   "file_extension": ".py",
   "mimetype": "text/x-python",
   "name": "python",
   "nbconvert_exporter": "python",
   "pygments_lexer": "ipython3",
   "version": "3.12.7"
  }
 },
 "nbformat": 4,
 "nbformat_minor": 5
}
