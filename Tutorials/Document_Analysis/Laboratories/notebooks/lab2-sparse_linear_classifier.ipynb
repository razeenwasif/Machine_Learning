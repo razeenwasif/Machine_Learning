{
 "cells": [
  {
   "cell_type": "markdown",
   "metadata": {},
   "source": [
    "# Movie Review Sentiment Classifier"
   ]
  },
  {
   "cell_type": "markdown",
   "metadata": {},
   "source": [
    "In this notebook, you will implement a simple linear classifier to infer the sentiment of a movie review from its text. \n",
    "\n",
    "You will also implement a hyper-parameter tuning method presented in the lectures to find a good value for the regularisation parameter of your logistic regression classifier. \n",
    "\n",
    "The [scikit-learn](https://scikit-learn.org/stable/index.html) machine learning package will be used throughout this notebook."
   ]
  },
  {
   "cell_type": "code",
   "execution_count": 1,
   "metadata": {},
   "outputs": [],
   "source": [
    "import os\n",
    "import numpy as np\n",
    "import pandas as pd\n",
    "from sklearn.feature_extraction.text import CountVectorizer\n",
    "from sklearn.linear_model import LogisticRegression\n",
    "from sklearn.metrics import accuracy_score"
   ]
  },
  {
   "cell_type": "markdown",
   "metadata": {},
   "source": [
    "Load the movie review data"
   ]
  },
  {
   "cell_type": "code",
   "execution_count": 3,
   "metadata": {},
   "outputs": [],
   "source": [
    "df = pd.read_csv(os.path.join(\"data\", \"movie_reviews_labelled.csv\"))"
   ]
  },
  {
   "cell_type": "markdown",
   "metadata": {},
   "source": [
    "Shuffle the rows and sample a fraction of the dataset for this lab so that you don't have to wait so long for the model to train"
   ]
  },
  {
   "cell_type": "code",
   "execution_count": 4,
   "metadata": {},
   "outputs": [],
   "source": [
    "df = df.sample(frac=0.3, random_state=1).reset_index(drop=True)"
   ]
  },
  {
   "cell_type": "markdown",
   "metadata": {},
   "source": [
    "Split the data into training, validation and test sets."
   ]
  },
  {
   "cell_type": "code",
   "execution_count": 5,
   "metadata": {},
   "outputs": [],
   "source": [
    "# convert pandas series to lists\n",
    "Xr = df[\"text\"].tolist()\n",
    "Yr = df[\"label\"].tolist()\n",
    "\n",
    "# compute the train, val, test splits\n",
    "train_frac, val_frac, test_frac = 0.7, 0.1, 0.2\n",
    "train_end = int(train_frac*len(Xr))\n",
    "val_end = int((train_frac + val_frac)*len(Xr))\n",
    "\n",
    "# store the train val test splits\n",
    "X_train = Xr[0:train_end]\n",
    "Y_train = Yr[0:train_end]\n",
    "X_val = Xr[train_end:val_end]\n",
    "Y_val = Yr[train_end:val_end]\n",
    "X_test = Xr[val_end:]\n",
    "Y_test = Yr[val_end:]"
   ]
  },
  {
   "cell_type": "markdown",
   "metadata": {},
   "source": [
    "Fit a linear classification model"
   ]
  },
  {
   "cell_type": "code",
   "execution_count": 7,
   "metadata": {},
   "outputs": [],
   "source": [
    "def fit_model(Xtr, Ytr, C):\n",
    "    \"\"\"Tokenizes the sentences, calculates TF vectors, and trains a logistic regression model.\n",
    "    \n",
    "    Args:\n",
    "    - Xtr: A list of training documents provided as text\n",
    "    - Ytr: A list of training class labels\n",
    "    - C: The regularization parameter\n",
    "    \"\"\"\n",
    "\n",
    "    # TODO: write model fitting code using CountVectorizer and LogisticRegression\n",
    "    #       CountVectorizer is used to convert the text into sparse TF vectors\n",
    "    #       See https://scikit-learn.org/stable/modules/generated/sklearn.feature_extraction.text.CountVectorizer.html\n",
    "    #       LogisticRegression will train the classifier using these vectors\n",
    "    #       See https://scikit-learn.org/stable/modules/generated/sklearn.linear_model.LogisticRegression.html\n",
    "\n",
    "    # Solution:\n",
    "    count_vectoriser = CountVectorizer()\n",
    "    Xv = count_vectoriser.fit_transform(Xtr)\n",
    "    model = LogisticRegression(C = C, max_iter=1000)\n",
    "    model.fit(Xv, Ytr)\n",
    "    \n",
    "    # return the model and CountVectorizer\n",
    "    # Note: we need to return the CountVectorizer because \n",
    "    # it stores a mapping from words -> ids which we need for testing\n",
    "    return model, count_vectoriser"
   ]
  },
  {
   "cell_type": "markdown",
   "metadata": {},
   "source": [
    "Test a fitted linear classifier"
   ]
  },
  {
   "cell_type": "code",
   "execution_count": 8,
   "metadata": {},
   "outputs": [],
   "source": [
    "def test_model(Xtst, Ytst, model, count_vectoriser):\n",
    "    \"\"\"Evaluate a trained classifier on the test set.\n",
    "    \n",
    "    Args:\n",
    "    - Xtst: A list of test or validation documents\n",
    "    - Ytst: A list of test or validation class labels\n",
    "    - count_vectoriser: A fitted CountVectorizer\n",
    "    \"\"\"\n",
    "    \n",
    "    # TODO: write code to test a fitted linear model and return accuracy\n",
    "    #       you will need to use count_vec to convert the text into TF vectors\n",
    "    # Hint: the function accuracy_score from sklearn may be helpful\n",
    "    #       See ttps://scikit-learn.org/stable/modules/generated/sklearn.metrics.accuracy_score.html \n",
    "\n",
    "    Xv = count_vectoriser.transform(Xtst)\n",
    "    ypred = model.predict(Xv)\n",
    "    score = accuracy_score(Ytst, ypred)\n",
    "    \n",
    "    return score"
   ]
  },
  {
   "cell_type": "markdown",
   "metadata": {},
   "source": [
    "Hyper-parameter tuning: search a good value for the hyper-parameter `C`"
   ]
  },
  {
   "cell_type": "code",
   "execution_count": 9,
   "metadata": {},
   "outputs": [
    {
     "name": "stdout",
     "output_type": "stream",
     "text": [
      "         C   Accuracy     Best C        Best Accuracy\n",
      "    0.0041     0.8506     0.0041               0.8506\n",
      "    0.0123     0.8632     0.0123               0.8632\n",
      "     0.037     0.8666      0.037               0.8666\n",
      "    0.1111     0.8692     0.1111               0.8692\n",
      "    0.3333     0.8679     0.1111               0.8692\n",
      "         1     0.8672     0.1111               0.8692\n",
      "         3     0.8659     0.1111               0.8692\n",
      "         9     0.8632     0.1111               0.8692\n",
      "        27     0.8579     0.1111               0.8692\n",
      "        81     0.8599     0.1111               0.8692\n"
     ]
    }
   ],
   "source": [
    "# TODO: search for the best C parameter by \n",
    "#       training on the training set and testing on the validation set\n",
    "#       you should use fit_model and test_model\n",
    "\n",
    "# Solution:\n",
    "best_C = 0\n",
    "best_score = -1\n",
    "print(f'{\"C\":>10} {\"Accuracy\":>10} {\"Best C\":>10} {\"Best Accuracy\":>20}')\n",
    "for k in range(-5, 5):\n",
    "    C = 3**k\n",
    "    model, cvec = fit_model(X_train, Y_train, C)\n",
    "    score = test_model(X_val, Y_val, model, cvec)\n",
    "    if score > best_score:\n",
    "        best_score = score\n",
    "        best_C = C\n",
    "    print(f'{round(C, 4):>10} {round(score, 4):>10} {round(best_C, 4):>10} {round(best_score, 4):>20}')"
   ]
  },
  {
   "cell_type": "markdown",
   "metadata": {},
   "source": [
    "Train your classifier using both the training and validation data, and the best value of `C`"
   ]
  },
  {
   "cell_type": "code",
   "execution_count": 10,
   "metadata": {},
   "outputs": [
    {
     "name": "stdout",
     "output_type": "stream",
     "text": [
      "0.8747084305231589\n"
     ]
    }
   ],
   "source": [
    "# TODO: fit the model to the concatenated training and validation set\n",
    "#       test on the test set and print the result\n",
    "\n",
    "# Solution:\n",
    "model, cvec = fit_model(Xr[:val_end], Yr[:val_end], best_C)\n",
    "score = test_model(X_test, Y_test, model, cvec)\n",
    "print(score)"
   ]
  },
  {
   "cell_type": "markdown",
   "metadata": {},
   "source": [
    "Inspect the co-efficients of your logistic regression classifier"
   ]
  },
  {
   "cell_type": "code",
   "execution_count": 12,
   "metadata": {},
   "outputs": [
    {
     "name": "stdout",
     "output_type": "stream",
     "text": [
      "Most negative:\n",
      "worst\n",
      "waste\n",
      "awful\n",
      "terrible\n",
      "boring\n",
      "\n",
      "Most positive:\n",
      "amazing\n",
      "superb\n",
      "wonderful\n",
      "enjoyed\n",
      "excellent\n"
     ]
    }
   ],
   "source": [
    "# TODO: find the words corresponding to the 5 largest (most positive) and \n",
    "#       5 smallest (most negative) co-efficients of the linear model\n",
    "# Hint: a fitted LogisticRegression model in sklearn has a coef_ attribute which stores the co-efficients\n",
    "#       CountVectorizer has a vocabulary_ attribute that stores a mapping of terms to feature indices\n",
    "\n",
    "# Solution:\n",
    "order = np.argsort(model.coef_)[0]\n",
    "id_to_w = {v:k for k,v in cvec.vocabulary_.items()}\n",
    "print(\"Most negative:\")\n",
    "for v in order[:5]:\n",
    "    print(id_to_w[v])\n",
    "print(\"\\nMost positive:\")\n",
    "for v in order[-5:]:\n",
    "    print(id_to_w[v])"
   ]
  },
  {
   "cell_type": "code",
   "execution_count": null,
   "metadata": {},
   "outputs": [],
   "source": []
  }
 ],
 "metadata": {
  "interpreter": {
   "hash": "05d9def070595ed3a5d2f360e17188870ccd24783bede71180e4b1c4ac6237f4"
  },
  "jupytext": {
   "formats": "ipynb,py:percent"
  },
  "kernelspec": {
   "display_name": "Python 3 (ipykernel)",
   "language": "python",
   "name": "python3"
  },
  "language_info": {
   "codemirror_mode": {
    "name": "ipython",
    "version": 3
   },
   "file_extension": ".py",
   "mimetype": "text/x-python",
   "name": "python",
   "nbconvert_exporter": "python",
   "pygments_lexer": "ipython3",
   "version": "3.12.7"
  }
 },
 "nbformat": 4,
 "nbformat_minor": 4
}
