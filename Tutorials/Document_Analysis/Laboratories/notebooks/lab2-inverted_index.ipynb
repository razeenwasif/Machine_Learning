{
 "cells": [
  {
   "cell_type": "markdown",
   "id": "2d7093eb-2052-4cdf-ac6c-a59499a3e257",
   "metadata": {},
   "source": [
    "# Inverted Index"
   ]
  },
  {
   "cell_type": "markdown",
   "id": "fa0f47bd-950b-4d86-a6dc-94d1e3896f77",
   "metadata": {},
   "source": [
    "This notebook demonstrates a simple indexer that constructs inverted index from raw text."
   ]
  },
  {
   "cell_type": "markdown",
   "id": "bda16689-cf26-4842-9da3-1e48e7ff99c7",
   "metadata": {},
   "source": [
    "The Natural Language Toolkit (NLTK) will be used for tokenisation and text preprocessing. You may implement your own tokeniser and text preprocessing functions if you want."
   ]
  },
  {
   "cell_type": "code",
   "execution_count": null,
   "id": "c27f9e3d-da74-43e6-8958-687996728a60",
   "metadata": {},
   "outputs": [],
   "source": [
    "import nltk"
   ]
  },
  {
   "cell_type": "markdown",
   "id": "b8d6b9a7-eebb-4faa-b785-9d6979b431a2",
   "metadata": {},
   "source": [
    "Download the *popular* subset of NLTK data for tokeniser etc."
   ]
  },
  {
   "cell_type": "code",
   "execution_count": null,
   "id": "af810433-1d5d-4cd8-aa92-a1d5ac26a8d9",
   "metadata": {},
   "outputs": [],
   "source": [
    "nltk.download('popular')"
   ]
  },
  {
   "cell_type": "markdown",
   "id": "130597a7-3264-42f3-b3f8-74f68dc8bbff",
   "metadata": {},
   "source": [
    "A set of 3 documents about the Australian National University is provided for this exercise."
   ]
  },
  {
   "cell_type": "code",
   "execution_count": null,
   "id": "ccc9d419-da2e-48bd-8ade-b1ee31925859",
   "metadata": {},
   "outputs": [],
   "source": [
    "docs = [\n",
    "    \"The Australian National University (ANU) is a public research university and member of the Group of Eight, located in Canberra, the capital of Australia. Its main campus in Acton encompasses seven teaching and research colleges, in addition to several national academies and institutes.\\nANU is ranked as the fourth university in Australia by the 2024 QS World University Rankings and second in Australia in the Times Higher Education rankings. Compared to other universities in the world, it is ranked 34th by the 2024 QS World University Rankings, and 62nd by the 2023 Times Higher Education.\\nEstablished in 1946, ANU is the only university to have been created by the Parliament of Australia. It traces its origins to Canberra University College, which was established in 1929 and was integrated into ANU in 1960. ANU enrols 13,329 undergraduate and 11,021 postgraduate students and employs 4,517 staff. The university's endowment stood at A$1.8 billion as of 2018.\\nANU counts six Nobel laureates and 49 Rhodes scholars among its faculty and alumni. The university has educated two prime ministers and more than a dozen current heads of government departments of Australia. The latest releases of ANU's scholarly publications are held through ANU Press online.\\n\",\n",
    "    \"Calls for the establishment of a national university in Australia began as early as 1900. After the location of the nation's capital, Canberra, was determined in 1908, land was set aside for the ANU at the foot of Black Mountain in the city designs by Walter Burley Griffin. Planning for the university was disrupted by World War II but resumed with the creation of the Department of Post-War Reconstruction in 1942, ultimately leading to the passage of the Australian National University Act 1946 by the Chifley government on 1 August 1946.\\nA group of eminent Australian scholars returned from overseas to join the university, including Sir Howard Florey (co-developer of medicinal penicillin), Sir Mark Oliphant (a nuclear physicist who worked on the Manhattan Project), and Sir Keith Hancock (the Chichele Professor of Economic History at Oxford). The group also included a New Zealander, Sir Raymond Firth (a professor of anthropology at LSE), who had earlier worked in Australia for some years. Economist Sir Douglas Copland was appointed as ANU's first Vice-Chancellor and former Prime Minister Stanley Bruce served as the first Chancellor. ANU was originally organised into four centres—the Research Schools of Physical Sciences, Social Sciences and Pacific Studies and the John Curtin School of Medical Research.\\nThe first residents' hall, University House, was opened in 1954 for faculty members and postgraduate students. Mount Stromlo Observatory, established by the federal government in 1924, became part of ANU in 1957. The first locations of the ANU Library, the Menzies and Chifley buildings, opened in 1963. The Australian Forestry School, located in Canberra since 1927, was amalgamated by ANU in 1965.\\n\",\n",
    "    \"Canberra University College (CUC) was the first institution of higher education in the national capital, having been established in 1929 and enrolling its first undergraduate pupils in 1930. Its founding was led by Sir Robert Garran, one of the drafters of the Australian Constitution and the first Solicitor-General of Australia. CUC was affiliated with the University of Melbourne and its degrees were granted by that university. Academic leaders at CUC included historian Manning Clark, political scientist Finlay Crisp, poet A. D. Hope and economist Heinz Arndt.\\nIn 1960, CUC was integrated into ANU as the School of General Studies, initially with faculties in arts, economics, law and science. Faculties in Oriental studies and engineering were introduced later. Bruce Hall, the first residential college for undergraduates, opened in 1961.\\n\"\n",
    "]"
   ]
  },
  {
   "cell_type": "markdown",
   "id": "5af09bc8-0b72-44a8-a159-ebae90ac72ef",
   "metadata": {},
   "source": [
    "## Indexer Step 1\n",
    "Scan the provided documents in `docs` for indexable terms and produce a list of `(token, docID)` tuples.\n",
    "\n",
    "You may use a tokeniser provided by NLTK or implement your own tokeniser.\n",
    "You also need to assign a unique `docID` for each document in `docs`."
   ]
  },
  {
   "cell_type": "code",
   "execution_count": null,
   "id": "9fe10b71-1000-4fff-a5fc-67e7feb0c67e",
   "metadata": {},
   "outputs": [],
   "source": [
    "from nltk.tokenize import word_tokenize\n",
    "#\n",
    "# TODO: \n",
    "# produce a list of (token, docID) tuples\n",
    "\n",
    "token_tuples = []"
   ]
  },
  {
   "cell_type": "code",
   "execution_count": null,
   "id": "1e17cfe0-b452-4d5f-a810-ec771f31290c",
   "metadata": {},
   "outputs": [],
   "source": [
    "# Solution:\n",
    "for (docid, doc) in enumerate(docs):\n",
    "    token_tuples.extend([(token, docid) for token in word_tokenize(doc)])"
   ]
  },
  {
   "cell_type": "markdown",
   "id": "8497f9ce-03fe-4512-a7b0-ddc1ef52c5d7",
   "metadata": {},
   "source": [
    "Print the total number of `(token, docID)` tuples"
   ]
  },
  {
   "cell_type": "code",
   "execution_count": null,
   "id": "e0e09172-59d6-4031-884d-063abe7b9a3e",
   "metadata": {},
   "outputs": [],
   "source": [
    "print(f'Number of (token, docID) tuples: {len(token_tuples)}')"
   ]
  },
  {
   "cell_type": "code",
   "execution_count": null,
   "id": "78ed99f7-1211-45df-ba99-f9fa639c9728",
   "metadata": {},
   "outputs": [],
   "source": [
    "# uncomment the code below for sanity check\n",
    "# token_tuples[:20]"
   ]
  },
  {
   "cell_type": "markdown",
   "id": "1aee3457-bb23-4dc1-a3b7-ac7eb3bdf400",
   "metadata": {},
   "source": [
    "### Question\n",
    "\n",
    "Are all the tokens/terms in `token_tuples` useful for keyword search?\n",
    "\n",
    "What are the potential effect of additional pre-processing (e.g., removing stopwords and punctuation marks, stemming, lemmatisation, etc.)?"
   ]
  },
  {
   "cell_type": "markdown",
   "id": "2c6509ba-33c7-4f11-82d1-19c89e0c9df8",
   "metadata": {},
   "source": [
    "## Indexer Step 2"
   ]
  },
  {
   "cell_type": "markdown",
   "id": "970d0483-c893-4370-b070-ceff3aacc86b",
   "metadata": {},
   "source": [
    "Sort token tuples `(token, docID)` (first by `token` then by `docID`)"
   ]
  },
  {
   "cell_type": "code",
   "execution_count": null,
   "id": "a327a9cd-c8c5-43de-a277-11602748687b",
   "metadata": {},
   "outputs": [],
   "source": [
    "# TODO:\n",
    "# sort token tuples\n",
    "\n",
    "sorted_token_tuples = []"
   ]
  },
  {
   "cell_type": "code",
   "execution_count": null,
   "id": "2087861d-1ee9-4471-abd7-3218076b79a9",
   "metadata": {},
   "outputs": [],
   "source": [
    "# Solution:\n",
    "sorted_token_tuples = sorted(token_tuples)"
   ]
  },
  {
   "cell_type": "code",
   "execution_count": null,
   "id": "a3d5a1ea-3ca4-4952-ac8d-3e9340737b90",
   "metadata": {},
   "outputs": [],
   "source": [
    "# uncomment the code below for sanity check\n",
    "sorted_token_tuples[:20]"
   ]
  },
  {
   "cell_type": "markdown",
   "id": "e52401a4-658a-4504-8c12-08646ba2a8fc",
   "metadata": {},
   "source": [
    "## Indexer Step 3"
   ]
  },
  {
   "cell_type": "markdown",
   "id": "f48a3bf8-876b-48da-9a22-1e21a99c1059",
   "metadata": {},
   "source": [
    "Construct inverted index - a Python dictionary where\n",
    "- the key is a unique token/term\n",
    "- the value is a list of `(docID, term_freq)` tuples for the token/term, here `term_freq` is the term frequency of the token/term in a document (i.e., the number of duplicated `(token, docID)` tuples)\n",
    "\n",
    "NOTE: An efficient implementation should scan each `(token, docID)` tuple in `sorted_token_tuples` only once!"
   ]
  },
  {
   "cell_type": "code",
   "execution_count": null,
   "id": "be257825-29a5-4de1-94dc-ad005fac27d3",
   "metadata": {},
   "outputs": [],
   "source": [
    "# TODO:\n",
    "# construct inverted index using the sorted list of (token, docID) tuples\n",
    "\n",
    "index = dict()"
   ]
  },
  {
   "cell_type": "code",
   "execution_count": null,
   "id": "dbd03441-4e3c-4342-aa1e-941a6cdbe9ef",
   "metadata": {},
   "outputs": [],
   "source": [
    "# Solution:\n",
    "doc_freq = dict()\n",
    "for (token, docid) in sorted_token_tuples:\n",
    "    if token not in index:\n",
    "        index[token] = [(docid, 1)]\n",
    "        doc_freq[token] = 1\n",
    "    else:\n",
    "        docid_, tf = index[token][-1]\n",
    "        if docid_ == docid:\n",
    "            index[token][-1] = (docid, tf+1)\n",
    "        else:\n",
    "            index[token].append((docid, 1))\n",
    "            doc_freq[token] += 1"
   ]
  },
  {
   "cell_type": "markdown",
   "id": "503c0879-5869-41ae-87d3-a334ab409f36",
   "metadata": {},
   "source": [
    "Print the total number of unique tokens indexed by your system."
   ]
  },
  {
   "cell_type": "code",
   "execution_count": null,
   "id": "d4e6220f-8649-4458-9a6a-0fd655ca8e46",
   "metadata": {},
   "outputs": [],
   "source": [
    "print(f'Number of indexed tokens/terms: {len(index)}')"
   ]
  },
  {
   "cell_type": "markdown",
   "id": "a36f4ec9-0f43-4778-b6b2-ad18b9b2ff81",
   "metadata": {},
   "source": [
    "### Question\n",
    "\n",
    "How do you efficiently compute the document frequency of a token/term using the constructed inverted index?"
   ]
  }
 ],
 "metadata": {
  "jupytext": {
   "formats": "ipynb,py:percent"
  },
  "kernelspec": {
   "display_name": "Python 3 (ipykernel)",
   "language": "python",
   "name": "python3"
  },
  "language_info": {
   "codemirror_mode": {
    "name": "ipython",
    "version": 3
   },
   "file_extension": ".py",
   "mimetype": "text/x-python",
   "name": "python",
   "nbconvert_exporter": "python",
   "pygments_lexer": "ipython3",
   "version": "3.11.0"
  }
 },
 "nbformat": 4,
 "nbformat_minor": 5
}
