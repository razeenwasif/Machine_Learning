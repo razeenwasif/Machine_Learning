{
 "cells": [
  {
   "cell_type": "markdown",
   "id": "45aae58a-81bb-4797-9357-a0de59818d99",
   "metadata": {},
   "source": [
    "A bigram model predicts the next token (word, character, etc.) based only on the immediately preceding token. (For example, in a word-based model, you’d look at a single previous word to predict the next.)\n",
    "Build A minimal Transformer that effectively learns bigram-like relationships."
   ]
  },
  {
   "cell_type": "markdown",
   "id": "c4cecd9c-5cea-48df-92bc-b6dac0f0e756",
   "metadata": {},
   "source": []
  }
 ],
 "metadata": {
  "kernelspec": {
   "display_name": "Python 3 (ipykernel)",
   "language": "python",
   "name": "python3"
  },
  "language_info": {
   "codemirror_mode": {
    "name": "ipython",
    "version": 3
   },
   "file_extension": ".py",
   "mimetype": "text/x-python",
   "name": "python",
   "nbconvert_exporter": "python",
   "pygments_lexer": "ipython3",
   "version": "3.11.8"
  }
 },
 "nbformat": 4,
 "nbformat_minor": 5
}
